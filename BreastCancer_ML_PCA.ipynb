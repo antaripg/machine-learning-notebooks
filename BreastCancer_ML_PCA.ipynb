{
  "nbformat": 4,
  "nbformat_minor": 0,
  "metadata": {
    "colab": {
      "provenance": [],
      "authorship_tag": "ABX9TyOtzyhjqE35v5P++IBKwDDb",
      "include_colab_link": true
    },
    "kernelspec": {
      "name": "python3",
      "display_name": "Python 3"
    },
    "language_info": {
      "name": "python"
    },
    "accelerator": "GPU"
  },
  "cells": [
    {
      "cell_type": "markdown",
      "metadata": {
        "id": "view-in-github",
        "colab_type": "text"
      },
      "source": [
        "<a href=\"https://colab.research.google.com/github/antaripg/machine-learning-notebooks/blob/main/BreastCancer_ML_PCA.ipynb\" target=\"_parent\"><img src=\"https://colab.research.google.com/assets/colab-badge.svg\" alt=\"Open In Colab\"/></a>"
      ]
    },
    {
      "cell_type": "code",
      "metadata": {
        "colab": {
          "base_uri": "https://localhost:8080/"
        },
        "id": "on9ECj6AKW5P",
        "outputId": "bffdce90-b5d0-42c1-81cc-81fe841c0b52"
      },
      "source": [
        "gpu_info = !nvidia-smi\n",
        "gpu_info = '\\n'.join(gpu_info)\n",
        "if gpu_info.find('failed') >= 0:\n",
        "  print('Select the Runtime > \"Change runtime type\" menu to enable a GPU accelerator, ')\n",
        "  print('and then re-execute this cell.')\n",
        "else:\n",
        "  print(gpu_info)"
      ],
      "execution_count": null,
      "outputs": [
        {
          "output_type": "stream",
          "text": [
            "Fri May 14 06:47:12 2021       \n",
            "+-----------------------------------------------------------------------------+\n",
            "| NVIDIA-SMI 465.19.01    Driver Version: 460.32.03    CUDA Version: 11.2     |\n",
            "|-------------------------------+----------------------+----------------------+\n",
            "| GPU  Name        Persistence-M| Bus-Id        Disp.A | Volatile Uncorr. ECC |\n",
            "| Fan  Temp  Perf  Pwr:Usage/Cap|         Memory-Usage | GPU-Util  Compute M. |\n",
            "|                               |                      |               MIG M. |\n",
            "|===============================+======================+======================|\n",
            "|   0  Tesla T4            Off  | 00000000:00:04.0 Off |                    0 |\n",
            "| N/A   66C    P8    11W /  70W |      0MiB / 15109MiB |      0%      Default |\n",
            "|                               |                      |                  N/A |\n",
            "+-------------------------------+----------------------+----------------------+\n",
            "                                                                               \n",
            "+-----------------------------------------------------------------------------+\n",
            "| Processes:                                                                  |\n",
            "|  GPU   GI   CI        PID   Type   Process name                  GPU Memory |\n",
            "|        ID   ID                                                   Usage      |\n",
            "|=============================================================================|\n",
            "|  No running processes found                                                 |\n",
            "+-----------------------------------------------------------------------------+\n"
          ],
          "name": "stdout"
        }
      ]
    },
    {
      "cell_type": "code",
      "metadata": {
        "colab": {
          "base_uri": "https://localhost:8080/"
        },
        "id": "VOGlvQZqKdlU",
        "outputId": "9fd98b35-e3a5-4a35-eca1-237d8b0e2992"
      },
      "source": [
        "from psutil import virtual_memory\n",
        "ram_gb = virtual_memory().total / 1e9\n",
        "print('Your runtime has {:.1f} gigabytes of available RAM\\n'.format(ram_gb))\n",
        "\n",
        "if ram_gb < 20:\n",
        "  print('To enable a high-RAM runtime, select the Runtime > \"Change runtime type\"')\n",
        "  print('menu, and then select High-RAM in the Runtime shape dropdown. Then, ')\n",
        "  print('re-execute this cell.')\n",
        "else:\n",
        "  print('You are using a high-RAM runtime!')"
      ],
      "execution_count": null,
      "outputs": [
        {
          "output_type": "stream",
          "text": [
            "Your runtime has 13.6 gigabytes of available RAM\n",
            "\n",
            "To enable a high-RAM runtime, select the Runtime > \"Change runtime type\"\n",
            "menu, and then select High-RAM in the Runtime shape dropdown. Then, \n",
            "re-execute this cell.\n"
          ],
          "name": "stdout"
        }
      ]
    },
    {
      "cell_type": "code",
      "metadata": {
        "colab": {
          "base_uri": "https://localhost:8080/"
        },
        "id": "2BVw__n2KWvq",
        "outputId": "754e0489-857f-4dc8-f217-1ea39c62ec36"
      },
      "source": [
        "%tensorflow_version 2.x\n",
        "import tensorflow as tf\n",
        "device_name = tf.test.gpu_device_name()\n",
        "if device_name != '/device:GPU:0':\n",
        "  raise SystemError('GPU device not found')\n",
        "print('Found GPU at: {}'.format(device_name))"
      ],
      "execution_count": null,
      "outputs": [
        {
          "output_type": "stream",
          "text": [
            "Found GPU at: /device:GPU:0\n"
          ],
          "name": "stdout"
        }
      ]
    },
    {
      "cell_type": "code",
      "metadata": {
        "id": "-zLjUnleKpep"
      },
      "source": [
        "%matplotlib inline\n",
        "\n",
        "import numpy as np  #Matrix Calculations\n",
        "import pandas as pd\n",
        "import os\n",
        "import math\n",
        "import cv2\n",
        "import scipy.ndimage\n",
        "import matplotlib.pyplot as plt\n",
        "import random\n",
        "from sklearn.preprocessing import LabelEncoder, StandardScaler\n",
        "from sklearn.model_selection import train_test_split\n",
        "from keras.models import Sequential\n",
        "from keras.layers import Dense, Activation, Dropout\n",
        "seed = 42\n",
        "np.random.seed = seed"
      ],
      "execution_count": null,
      "outputs": []
    },
    {
      "cell_type": "code",
      "metadata": {
        "colab": {
          "base_uri": "https://localhost:8080/"
        },
        "id": "sGNuxQQaKVAW",
        "outputId": "b5677f76-6582-4810-c71a-c35d7b69415e"
      },
      "source": [
        "from google.colab import drive\n",
        "drive.mount(\"/content/drive/\", force_remount=True)"
      ],
      "execution_count": null,
      "outputs": [
        {
          "output_type": "stream",
          "text": [
            "Mounted at /content/drive/\n"
          ],
          "name": "stdout"
        }
      ]
    },
    {
      "cell_type": "code",
      "metadata": {
        "id": "0_W2xQS-LfZ9"
      },
      "source": [
        "cols_names = ['Sample Code Number',             # 1- 10\n",
        "              'Clump Thickness',                # 1- 10\n",
        "              'Uniformity of Cell Size',        # 1- 10\n",
        "              'Uniformity of Cell Shape',       # 1- 10\n",
        "              'Marginal Adhesion',              # 1- 10\n",
        "              'Single Epithelial Cell Size',    # 1- 10\n",
        "              'Bare Nuclei',                    # 1- 10\n",
        "              'Bland Chromatin',                # 1- 10\n",
        "              'Normal Nucleoli',                # 1- 10\n",
        "              'Mitoses',                        # 1- 10\n",
        "              'Class']"
      ],
      "execution_count": null,
      "outputs": []
    },
    {
      "cell_type": "code",
      "metadata": {
        "id": "tPtnGv4vLGhg"
      },
      "source": [
        "with open('/content/drive/MyDrive/BreastCancer_ML/breast_cancer_data.csv') as input_file:\n",
        "    data_df = pd.read_csv(input_file,delimiter=',')"
      ],
      "execution_count": null,
      "outputs": []
    },
    {
      "cell_type": "code",
      "metadata": {
        "colab": {
          "base_uri": "https://localhost:8080/",
          "height": 223
        },
        "id": "jNPR5XbhLiZB",
        "outputId": "9a552601-48f3-4c34-cef5-c6e25cc58d38"
      },
      "source": [
        "data_df.head()"
      ],
      "execution_count": null,
      "outputs": [
        {
          "output_type": "execute_result",
          "data": {
            "text/html": [
              "<div>\n",
              "<style scoped>\n",
              "    .dataframe tbody tr th:only-of-type {\n",
              "        vertical-align: middle;\n",
              "    }\n",
              "\n",
              "    .dataframe tbody tr th {\n",
              "        vertical-align: top;\n",
              "    }\n",
              "\n",
              "    .dataframe thead th {\n",
              "        text-align: right;\n",
              "    }\n",
              "</style>\n",
              "<table border=\"1\" class=\"dataframe\">\n",
              "  <thead>\n",
              "    <tr style=\"text-align: right;\">\n",
              "      <th></th>\n",
              "      <th>Unnamed: 0</th>\n",
              "      <th>Sample Code Number</th>\n",
              "      <th>Clump Thickness</th>\n",
              "      <th>Uniformity of Cell Size</th>\n",
              "      <th>Uniformity of Cell Shape</th>\n",
              "      <th>Marginal Adhesion</th>\n",
              "      <th>Single Epithelial Cell Size</th>\n",
              "      <th>Bare Nuclei</th>\n",
              "      <th>Bland Chromatin</th>\n",
              "      <th>Normal Nucleoli</th>\n",
              "      <th>Mitoses</th>\n",
              "      <th>Class</th>\n",
              "    </tr>\n",
              "  </thead>\n",
              "  <tbody>\n",
              "    <tr>\n",
              "      <th>0</th>\n",
              "      <td>0</td>\n",
              "      <td>1000025</td>\n",
              "      <td>5</td>\n",
              "      <td>1</td>\n",
              "      <td>1</td>\n",
              "      <td>1</td>\n",
              "      <td>2</td>\n",
              "      <td>1</td>\n",
              "      <td>3</td>\n",
              "      <td>1</td>\n",
              "      <td>1</td>\n",
              "      <td>2</td>\n",
              "    </tr>\n",
              "    <tr>\n",
              "      <th>1</th>\n",
              "      <td>1</td>\n",
              "      <td>1002945</td>\n",
              "      <td>5</td>\n",
              "      <td>4</td>\n",
              "      <td>4</td>\n",
              "      <td>5</td>\n",
              "      <td>7</td>\n",
              "      <td>10</td>\n",
              "      <td>3</td>\n",
              "      <td>2</td>\n",
              "      <td>1</td>\n",
              "      <td>2</td>\n",
              "    </tr>\n",
              "    <tr>\n",
              "      <th>2</th>\n",
              "      <td>2</td>\n",
              "      <td>1015425</td>\n",
              "      <td>3</td>\n",
              "      <td>1</td>\n",
              "      <td>1</td>\n",
              "      <td>1</td>\n",
              "      <td>2</td>\n",
              "      <td>2</td>\n",
              "      <td>3</td>\n",
              "      <td>1</td>\n",
              "      <td>1</td>\n",
              "      <td>2</td>\n",
              "    </tr>\n",
              "    <tr>\n",
              "      <th>3</th>\n",
              "      <td>3</td>\n",
              "      <td>1016277</td>\n",
              "      <td>6</td>\n",
              "      <td>8</td>\n",
              "      <td>8</td>\n",
              "      <td>1</td>\n",
              "      <td>3</td>\n",
              "      <td>4</td>\n",
              "      <td>3</td>\n",
              "      <td>7</td>\n",
              "      <td>1</td>\n",
              "      <td>2</td>\n",
              "    </tr>\n",
              "    <tr>\n",
              "      <th>4</th>\n",
              "      <td>4</td>\n",
              "      <td>1017023</td>\n",
              "      <td>4</td>\n",
              "      <td>1</td>\n",
              "      <td>1</td>\n",
              "      <td>3</td>\n",
              "      <td>2</td>\n",
              "      <td>1</td>\n",
              "      <td>3</td>\n",
              "      <td>1</td>\n",
              "      <td>1</td>\n",
              "      <td>2</td>\n",
              "    </tr>\n",
              "  </tbody>\n",
              "</table>\n",
              "</div>"
            ],
            "text/plain": [
              "   Unnamed: 0  Sample Code Number  ...  Mitoses  Class\n",
              "0           0             1000025  ...        1      2\n",
              "1           1             1002945  ...        1      2\n",
              "2           2             1015425  ...        1      2\n",
              "3           3             1016277  ...        1      2\n",
              "4           4             1017023  ...        1      2\n",
              "\n",
              "[5 rows x 12 columns]"
            ]
          },
          "metadata": {
            "tags": []
          },
          "execution_count": 16
        }
      ]
    },
    {
      "cell_type": "code",
      "metadata": {
        "colab": {
          "base_uri": "https://localhost:8080/"
        },
        "id": "YemyQ72qLxwt",
        "outputId": "0f211bed-f74a-4c63-f6e6-124aa4155e08"
      },
      "source": [
        "data_df = data_df.dropna()\n",
        "print(data_df.describe().T)\n",
        "print(data_df.isnull().sum())"
      ],
      "execution_count": null,
      "outputs": [
        {
          "output_type": "stream",
          "text": [
            "                             count          mean  ...        75%         max\n",
            "Unnamed: 0                   699.0  3.490000e+02  ...      523.5       698.0\n",
            "Sample Code Number           699.0  1.071704e+06  ...  1238298.0  13454352.0\n",
            "Clump Thickness              699.0  4.417740e+00  ...        6.0        10.0\n",
            "Uniformity of Cell Size      699.0  3.134478e+00  ...        5.0        10.0\n",
            "Uniformity of Cell Shape     699.0  3.207439e+00  ...        5.0        10.0\n",
            "Marginal Adhesion            699.0  2.806867e+00  ...        4.0        10.0\n",
            "Single Epithelial Cell Size  699.0  3.216023e+00  ...        4.0        10.0\n",
            "Bland Chromatin              699.0  3.437768e+00  ...        5.0        10.0\n",
            "Normal Nucleoli              699.0  2.866953e+00  ...        4.0        10.0\n",
            "Mitoses                      699.0  1.589413e+00  ...        1.0        10.0\n",
            "Class                        699.0  2.689557e+00  ...        4.0         4.0\n",
            "\n",
            "[11 rows x 8 columns]\n",
            "Unnamed: 0                     0\n",
            "Sample Code Number             0\n",
            "Clump Thickness                0\n",
            "Uniformity of Cell Size        0\n",
            "Uniformity of Cell Shape       0\n",
            "Marginal Adhesion              0\n",
            "Single Epithelial Cell Size    0\n",
            "Bare Nuclei                    0\n",
            "Bland Chromatin                0\n",
            "Normal Nucleoli                0\n",
            "Mitoses                        0\n",
            "Class                          0\n",
            "dtype: int64\n"
          ],
          "name": "stdout"
        }
      ]
    },
    {
      "cell_type": "code",
      "metadata": {
        "colab": {
          "base_uri": "https://localhost:8080/"
        },
        "id": "BrwNRaJ0MVKg",
        "outputId": "5138619c-eacd-4ac9-907c-fa62e07ab7b6"
      },
      "source": [
        "data_df = data_df.rename (columns = {'Class':'Label'})\n",
        "print(data_df.dtypes)"
      ],
      "execution_count": null,
      "outputs": [
        {
          "output_type": "stream",
          "text": [
            "Unnamed: 0                      int64\n",
            "Sample Code Number              int64\n",
            "Clump Thickness                 int64\n",
            "Uniformity of Cell Size         int64\n",
            "Uniformity of Cell Shape        int64\n",
            "Marginal Adhesion               int64\n",
            "Single Epithelial Cell Size     int64\n",
            "Bare Nuclei                    object\n",
            "Bland Chromatin                 int64\n",
            "Normal Nucleoli                 int64\n",
            "Mitoses                         int64\n",
            "Label                           int64\n",
            "dtype: object\n"
          ],
          "name": "stdout"
        }
      ]
    },
    {
      "cell_type": "code",
      "metadata": {
        "colab": {
          "base_uri": "https://localhost:8080/"
        },
        "id": "IeuYSqVcP90q",
        "outputId": "7ae877fb-b87b-42c2-ac08-2c9e62007e58"
      },
      "source": [
        "data_df['Label'].value_counts()"
      ],
      "execution_count": null,
      "outputs": [
        {
          "output_type": "execute_result",
          "data": {
            "text/plain": [
              "2    458\n",
              "4    241\n",
              "Name: Label, dtype: int64"
            ]
          },
          "metadata": {
            "tags": []
          },
          "execution_count": 19
        }
      ]
    },
    {
      "cell_type": "code",
      "metadata": {
        "id": "XkZts1xLRJty"
      },
      "source": [
        "# # define X and normalizing values\n",
        "# X = data_df.drop(labels = ['Label', 'Sample Code Number'], axis = 1)"
      ],
      "execution_count": null,
      "outputs": []
    },
    {
      "cell_type": "code",
      "metadata": {
        "id": "3yHbAU4ZcTFq"
      },
      "source": [
        "cols_final = ['Clump Thickness',                # 1- 10\n",
        "              'Uniformity of Cell Size',        # 1- 10\n",
        "              'Uniformity of Cell Shape',       # 1- 10\n",
        "              'Marginal Adhesion',              # 1- 10\n",
        "              'Single Epithelial Cell Size',    # 1- 10\n",
        "              'Bare Nuclei',                    # 1- 10\n",
        "              'Bland Chromatin',                # 1- 10\n",
        "              'Normal Nucleoli',                # 1- 10\n",
        "              'Mitoses']\n",
        "df = data_df\n",
        "check = '?'\n",
        "for cols in cols_final:\n",
        "  df[''+cols] = df[''+cols].replace('?',99999)"
      ],
      "execution_count": null,
      "outputs": []
    },
    {
      "cell_type": "code",
      "metadata": {
        "id": "PgDGB7ZVdEUp"
      },
      "source": [
        "df = df[~(df == 99999).any(axis='columns')]"
      ],
      "execution_count": null,
      "outputs": []
    },
    {
      "cell_type": "code",
      "metadata": {
        "colab": {
          "base_uri": "https://localhost:8080/"
        },
        "id": "xAHvXiCXeDe8",
        "outputId": "ba365a53-a9e0-480f-d1b9-8e5be616ba9d"
      },
      "source": [
        "df['Label'].value_counts()\n"
      ],
      "execution_count": null,
      "outputs": [
        {
          "output_type": "execute_result",
          "data": {
            "text/plain": [
              "2    444\n",
              "4    239\n",
              "Name: Label, dtype: int64"
            ]
          },
          "metadata": {
            "tags": []
          },
          "execution_count": 22
        }
      ]
    },
    {
      "cell_type": "code",
      "metadata": {
        "id": "NCbCpQukeA-i"
      },
      "source": [
        "y = df['Label'].values"
      ],
      "execution_count": null,
      "outputs": []
    },
    {
      "cell_type": "code",
      "metadata": {
        "id": "z00FxajCeH4Q"
      },
      "source": [
        "labelencoder = LabelEncoder()\n",
        "Y= labelencoder.fit_transform(y)"
      ],
      "execution_count": null,
      "outputs": []
    },
    {
      "cell_type": "code",
      "metadata": {
        "colab": {
          "base_uri": "https://localhost:8080/"
        },
        "id": "lmALTjsaeTsu",
        "outputId": "b4af2428-1b47-423b-ba45-485ebc18f33b"
      },
      "source": [
        "Y.shape"
      ],
      "execution_count": null,
      "outputs": [
        {
          "output_type": "execute_result",
          "data": {
            "text/plain": [
              "(683,)"
            ]
          },
          "metadata": {
            "tags": []
          },
          "execution_count": 26
        }
      ]
    },
    {
      "cell_type": "code",
      "metadata": {
        "id": "rf85ZgAedbjJ"
      },
      "source": [
        "X = df.drop(labels = ['Label', 'Sample Code Number'], axis = 1)"
      ],
      "execution_count": null,
      "outputs": []
    },
    {
      "cell_type": "code",
      "metadata": {
        "id": "Uily34pbVXE_"
      },
      "source": [
        "scaler = StandardScaler()\n",
        "scaler.fit(X)\n",
        "X = scaler.transform(X)"
      ],
      "execution_count": null,
      "outputs": []
    },
    {
      "cell_type": "code",
      "metadata": {
        "colab": {
          "base_uri": "https://localhost:8080/"
        },
        "id": "WQAJ5_xOSFdE",
        "outputId": "264bc9a3-cff2-41c7-ac81-7df269f1a1b7"
      },
      "source": [
        "X.shape"
      ],
      "execution_count": null,
      "outputs": [
        {
          "output_type": "execute_result",
          "data": {
            "text/plain": [
              "(683, 10)"
            ]
          },
          "metadata": {
            "tags": []
          },
          "execution_count": 30
        }
      ]
    },
    {
      "cell_type": "code",
      "metadata": {
        "colab": {
          "base_uri": "https://localhost:8080/",
          "height": 279
        },
        "id": "G1AzQdN3r1dz",
        "outputId": "1164f1cd-6770-4c4e-84da-6bf2ea38a1b4"
      },
      "source": [
        "# Performing PCA Analysis\n",
        "from sklearn.decomposition import PCA\n",
        "\n",
        "pca_test = PCA(n_components = 10)\n",
        "pca_test.fit(X)\n",
        "plt.plot(np.cumsum(pca_test.explained_variance_ratio_))\n",
        "plt.xlabel(\"Number of Components\")\n",
        "plt.ylabel(\"Cum variance\")\n",
        "plt.show()"
      ],
      "execution_count": null,
      "outputs": [
        {
          "output_type": "display_data",
          "data": {
            "image/png": "[encoded data removed]",
            "text/plain": [
              "<Figure size 432x288 with 1 Axes>"
            ]
          },
          "metadata": {
            "tags": [],
            "needs_background": "light"
          }
        }
      ]
    },
    {
      "cell_type": "code",
      "metadata": {
        "id": "J7YTT9uqvH6M"
      },
      "source": [
        "# Let us pick n_components\n",
        "n_PCA_components = 5\n",
        "pca = PCA(n_components= n_PCA_components)\n",
        "principalComponents = pca.fit_transform(X)"
      ],
      "execution_count": null,
      "outputs": []
    },
    {
      "cell_type": "code",
      "metadata": {
        "id": "AUXR1ZHzw-ax"
      },
      "source": [],
      "execution_count": null,
      "outputs": []
    },
    {
      "cell_type": "code",
      "metadata": {
        "id": "4W2RZjFywMtv"
      },
      "source": [
        "PCA_df = pd.DataFrame( data = principalComponents,\n",
        "                      columns = ['PC1', 'PC2','PC3','PC4','PC5'])"
      ],
      "execution_count": null,
      "outputs": []
    },
    {
      "cell_type": "code",
      "metadata": {
        "colab": {
          "base_uri": "https://localhost:8080/",
          "height": 206
        },
        "id": "HRUi8CPXxFKE",
        "outputId": "ab862ee3-a936-4b36-8b3e-fca367df517e"
      },
      "source": [
        "PCA_df.head()"
      ],
      "execution_count": null,
      "outputs": [
        {
          "output_type": "execute_result",
          "data": {
            "text/html": [
              "<div>\n",
              "<style scoped>\n",
              "    .dataframe tbody tr th:only-of-type {\n",
              "        vertical-align: middle;\n",
              "    }\n",
              "\n",
              "    .dataframe tbody tr th {\n",
              "        vertical-align: top;\n",
              "    }\n",
              "\n",
              "    .dataframe thead th {\n",
              "        text-align: right;\n",
              "    }\n",
              "</style>\n",
              "<table border=\"1\" class=\"dataframe\">\n",
              "  <thead>\n",
              "    <tr style=\"text-align: right;\">\n",
              "      <th></th>\n",
              "      <th>PC1</th>\n",
              "      <th>PC2</th>\n",
              "      <th>PC3</th>\n",
              "      <th>PC4</th>\n",
              "      <th>PC5</th>\n",
              "    </tr>\n",
              "  </thead>\n",
              "  <tbody>\n",
              "    <tr>\n",
              "      <th>0</th>\n",
              "      <td>-1.324543</td>\n",
              "      <td>-1.799539</td>\n",
              "      <td>-0.464848</td>\n",
              "      <td>-0.445044</td>\n",
              "      <td>-0.065819</td>\n",
              "    </tr>\n",
              "    <tr>\n",
              "      <th>1</th>\n",
              "      <td>1.578718</td>\n",
              "      <td>-1.588472</td>\n",
              "      <td>-0.905972</td>\n",
              "      <td>0.378721</td>\n",
              "      <td>-0.534510</td>\n",
              "    </tr>\n",
              "    <tr>\n",
              "      <th>2</th>\n",
              "      <td>-1.447110</td>\n",
              "      <td>-1.804488</td>\n",
              "      <td>-0.432953</td>\n",
              "      <td>0.175309</td>\n",
              "      <td>-0.135507</td>\n",
              "    </tr>\n",
              "    <tr>\n",
              "      <th>3</th>\n",
              "      <td>1.613227</td>\n",
              "      <td>-1.387458</td>\n",
              "      <td>-0.812973</td>\n",
              "      <td>-0.498601</td>\n",
              "      <td>1.390107</td>\n",
              "    </tr>\n",
              "    <tr>\n",
              "      <th>4</th>\n",
              "      <td>-1.202042</td>\n",
              "      <td>-1.682549</td>\n",
              "      <td>-0.414981</td>\n",
              "      <td>0.134871</td>\n",
              "      <td>-0.371922</td>\n",
              "    </tr>\n",
              "  </tbody>\n",
              "</table>\n",
              "</div>"
            ],
            "text/plain": [
              "        PC1       PC2       PC3       PC4       PC5\n",
              "0 -1.324543 -1.799539 -0.464848 -0.445044 -0.065819\n",
              "1  1.578718 -1.588472 -0.905972  0.378721 -0.534510\n",
              "2 -1.447110 -1.804488 -0.432953  0.175309 -0.135507\n",
              "3  1.613227 -1.387458 -0.812973 -0.498601  1.390107\n",
              "4 -1.202042 -1.682549 -0.414981  0.134871 -0.371922"
            ]
          },
          "metadata": {
            "tags": []
          },
          "execution_count": 79
        }
      ]
    },
    {
      "cell_type": "code",
      "metadata": {
        "colab": {
          "base_uri": "https://localhost:8080/"
        },
        "id": "7cBu-Drtwh4q",
        "outputId": "3a113a4b-27d0-4c65-deac-822d6cdbcf4e"
      },
      "source": [
        "print('Explained Variation per pricipal component: {}'.format(pca.explained_variance_ratio_))\n",
        "print('Amount of information lost due to PCA: {}'.format(1 - np.sum(pca.explained_variance_ratio_)))"
      ],
      "execution_count": null,
      "outputs": [
        {
          "output_type": "stream",
          "text": [
            "Explained Variation per pricipal component: [0.59320481 0.09996335 0.07671964 0.05372253 0.04593694]\n",
            "Amount of information lost due to PCA: 0.13045272302110178\n"
          ],
          "name": "stdout"
        }
      ]
    },
    {
      "cell_type": "code",
      "metadata": {
        "colab": {
          "base_uri": "https://localhost:8080/"
        },
        "id": "kONSYTPSx_C4",
        "outputId": "a17f29de-6a79-445e-c7ec-e22ffafb6645"
      },
      "source": [
        "df['Label']\n"
      ],
      "execution_count": null,
      "outputs": [
        {
          "output_type": "execute_result",
          "data": {
            "text/plain": [
              "0      2\n",
              "1      2\n",
              "2      2\n",
              "3      2\n",
              "4      2\n",
              "      ..\n",
              "694    2\n",
              "695    2\n",
              "696    4\n",
              "697    4\n",
              "698    4\n",
              "Name: Label, Length: 683, dtype: int64"
            ]
          },
          "metadata": {
            "tags": []
          },
          "execution_count": 81
        }
      ]
    },
    {
      "cell_type": "code",
      "metadata": {
        "id": "aqqUDIWzxdL8"
      },
      "source": [
        "final_df = pd.concat([PCA_df, data_df['Label']], axis = 1)"
      ],
      "execution_count": null,
      "outputs": []
    },
    {
      "cell_type": "code",
      "metadata": {
        "colab": {
          "base_uri": "https://localhost:8080/",
          "height": 523
        },
        "id": "jQ0tN0WPx0tB",
        "outputId": "89c425fb-9436-4f86-dad4-a03299d310d0"
      },
      "source": [
        "fig = plt.figure(figsize = (8,8))\n",
        "ax = fig.add_subplot(1, 1, 1)\n",
        "ax.set_xlabel('PC1', fontsize = 15)\n",
        "ax.set_ylabel('PC2', fontsize = 15)\n",
        "ax.set_title('5 component PCA', fontsize = 20)\n",
        "labels = [ 2, 4]\n",
        "colors = ['r', 'g']\n",
        "for label, color in zip(labels, colors):\n",
        "  indicesToKeep = final_df['Label'] == label\n",
        "  ax.scatter(final_df.loc[indicesToKeep, 'PC1'],\n",
        "             final_df.loc[indicesToKeep, 'PC2'],\n",
        "             c = color,\n",
        "             s = 50)\n",
        "ax.legend(labels)\n",
        "ax.grid()"
      ],
      "execution_count": null,
      "outputs": [
        {
          "output_type": "display_data",
          "data": {
            "image/png": "[encoded data removed]",
            "text/plain": [
              "<Figure size 576x576 with 1 Axes>"
            ]
          },
          "metadata": {
            "tags": [],
            "needs_background": "light"
          }
        }
      ]
    },
    {
      "cell_type": "code",
      "metadata": {
        "id": "EUyZZOnI0bk_"
      },
      "source": [
        "X_PCA = final_df.drop(labels = [\"Label\"], axis = 1)"
      ],
      "execution_count": null,
      "outputs": []
    },
    {
      "cell_type": "code",
      "metadata": {
        "id": "MGOsXJPZ1RB_"
      },
      "source": [
        "y_PCA = final_df[\"Label\"].values\n",
        "labelencoder = LabelEncoder()\n",
        "Y_PCA= labelencoder.fit_transform(y_PCA)"
      ],
      "execution_count": null,
      "outputs": []
    },
    {
      "cell_type": "code",
      "metadata": {
        "id": "GQ3XBYnle00P"
      },
      "source": [
        "X_train, X_test, y_train, y_test = train_test_split(X_PCA, Y_PCA, test_size = 0.25, random_state = 42 )"
      ],
      "execution_count": null,
      "outputs": []
    },
    {
      "cell_type": "code",
      "metadata": {
        "colab": {
          "base_uri": "https://localhost:8080/"
        },
        "id": "BJ6ruTuwkBqd",
        "outputId": "2da9b5df-6900-4ec9-a6f9-80c1fa5d6099"
      },
      "source": [
        "# Creating a keras deep learning Sequential Model\n",
        "\n",
        "model = Sequential()\n",
        "model.add(Dense(16, input_dim = n_PCA_components, activation = 'relu'))\n",
        "model.add(Dropout(0.2))\n",
        "model.add(Dense(1))\n",
        "model.add(Activation('sigmoid'))\n",
        "model.compile(loss= 'binary_crossentropy',\n",
        "              optimizer = 'adam',\n",
        "              metrics = ['accuracy'])\n",
        "\n",
        "print(model.summary())"
      ],
      "execution_count": null,
      "outputs": [
        {
          "output_type": "stream",
          "text": [
            "Model: \"sequential_1\"\n",
            "_________________________________________________________________\n",
            "Layer (type)                 Output Shape              Param #   \n",
            "=================================================================\n",
            "dense_2 (Dense)              (None, 16)                128       \n",
            "_________________________________________________________________\n",
            "dropout_1 (Dropout)          (None, 16)                0         \n",
            "_________________________________________________________________\n",
            "dense_3 (Dense)              (None, 1)                 17        \n",
            "_________________________________________________________________\n",
            "activation_1 (Activation)    (None, 1)                 0         \n",
            "=================================================================\n",
            "Total params: 145\n",
            "Trainable params: 145\n",
            "Non-trainable params: 0\n",
            "_________________________________________________________________\n",
            "None\n"
          ],
          "name": "stdout"
        }
      ]
    },
    {
      "cell_type": "code",
      "metadata": {
        "colab": {
          "base_uri": "https://localhost:8080/"
        },
        "id": "Q8BpEGbMlBhc",
        "outputId": "89471bab-2ffd-430e-f79d-172efdd23476"
      },
      "source": [
        "import datetime\n",
        "start = datetime.datetime.now()\n",
        "\n",
        "history = model.fit(X_train, y_train, verbose = 1, epochs = 500 , batch_size = 64, shuffle = True, validation_split= 0.2)\n",
        "\n",
        "end = datetime.datetime.now()\n",
        "\n",
        "print(\"Total execution time - {}\".format(end - start))\n"
      ],
      "execution_count": null,
      "outputs": [
        {
          "output_type": "stream",
          "text": [
            "Epoch 1/500\n",
            "7/7 [==============================] - 0s 15ms/step - loss: 0.6486 - accuracy: 0.6539 - val_loss: 0.6602 - val_accuracy: 0.6286\n",
            "Epoch 2/500\n",
            "7/7 [==============================] - 0s 7ms/step - loss: 0.6486 - accuracy: 0.6539 - val_loss: 0.6602 - val_accuracy: 0.6286\n",
            "Epoch 3/500\n",
            "7/7 [==============================] - 0s 6ms/step - loss: 0.6484 - accuracy: 0.6539 - val_loss: 0.6601 - val_accuracy: 0.6286\n",
            "Epoch 4/500\n",
            "7/7 [==============================] - 0s 7ms/step - loss: 0.6483 - accuracy: 0.6539 - val_loss: 0.6601 - val_accuracy: 0.6286\n",
            "Epoch 5/500\n",
            "7/7 [==============================] - 0s 7ms/step - loss: 0.6482 - accuracy: 0.6539 - val_loss: 0.6601 - val_accuracy: 0.6286\n",
            "Epoch 6/500\n",
            "7/7 [==============================] - 0s 7ms/step - loss: 0.6481 - accuracy: 0.6539 - val_loss: 0.6600 - val_accuracy: 0.6286\n",
            "Epoch 7/500\n",
            "7/7 [==============================] - 0s 7ms/step - loss: 0.6480 - accuracy: 0.6539 - val_loss: 0.6600 - val_accuracy: 0.6286\n",
            "Epoch 8/500\n",
            "7/7 [==============================] - 0s 7ms/step - loss: 0.6479 - accuracy: 0.6539 - val_loss: 0.6600 - val_accuracy: 0.6286\n",
            "Epoch 9/500\n",
            "7/7 [==============================] - 0s 7ms/step - loss: 0.6479 - accuracy: 0.6539 - val_loss: 0.6600 - val_accuracy: 0.6286\n",
            "Epoch 10/500\n",
            "7/7 [==============================] - 0s 7ms/step - loss: 0.6478 - accuracy: 0.6539 - val_loss: 0.6599 - val_accuracy: 0.6286\n",
            "Epoch 11/500\n",
            "7/7 [==============================] - 0s 7ms/step - loss: 0.6477 - accuracy: 0.6539 - val_loss: 0.6599 - val_accuracy: 0.6286\n",
            "Epoch 12/500\n",
            "7/7 [==============================] - 0s 7ms/step - loss: 0.6476 - accuracy: 0.6539 - val_loss: 0.6599 - val_accuracy: 0.6286\n",
            "Epoch 13/500\n",
            "7/7 [==============================] - 0s 7ms/step - loss: 0.6475 - accuracy: 0.6539 - val_loss: 0.6599 - val_accuracy: 0.6286\n",
            "Epoch 14/500\n",
            "7/7 [==============================] - 0s 7ms/step - loss: 0.6474 - accuracy: 0.6539 - val_loss: 0.6599 - val_accuracy: 0.6286\n",
            "Epoch 15/500\n",
            "7/7 [==============================] - 0s 7ms/step - loss: 0.6474 - accuracy: 0.6539 - val_loss: 0.6598 - val_accuracy: 0.6286\n",
            "Epoch 16/500\n",
            "7/7 [==============================] - 0s 7ms/step - loss: 0.6473 - accuracy: 0.6539 - val_loss: 0.6598 - val_accuracy: 0.6286\n",
            "Epoch 17/500\n",
            "7/7 [==============================] - 0s 7ms/step - loss: 0.6472 - accuracy: 0.6539 - val_loss: 0.6598 - val_accuracy: 0.6286\n",
            "Epoch 18/500\n",
            "7/7 [==============================] - 0s 7ms/step - loss: 0.6471 - accuracy: 0.6539 - val_loss: 0.6598 - val_accuracy: 0.6286\n",
            "Epoch 19/500\n",
            "7/7 [==============================] - 0s 7ms/step - loss: 0.6471 - accuracy: 0.6539 - val_loss: 0.6598 - val_accuracy: 0.6286\n",
            "Epoch 20/500\n",
            "7/7 [==============================] - 0s 9ms/step - loss: 0.6470 - accuracy: 0.6539 - val_loss: 0.6598 - val_accuracy: 0.6286\n",
            "Epoch 21/500\n",
            "7/7 [==============================] - 0s 8ms/step - loss: 0.6470 - accuracy: 0.6539 - val_loss: 0.6598 - val_accuracy: 0.6286\n",
            "Epoch 22/500\n",
            "7/7 [==============================] - 0s 7ms/step - loss: 0.6469 - accuracy: 0.6539 - val_loss: 0.6598 - val_accuracy: 0.6286\n",
            "Epoch 23/500\n",
            "7/7 [==============================] - 0s 7ms/step - loss: 0.6468 - accuracy: 0.6539 - val_loss: 0.6597 - val_accuracy: 0.6286\n",
            "Epoch 24/500\n",
            "7/7 [==============================] - 0s 7ms/step - loss: 0.6468 - accuracy: 0.6539 - val_loss: 0.6597 - val_accuracy: 0.6286\n",
            "Epoch 25/500\n",
            "7/7 [==============================] - 0s 7ms/step - loss: 0.6467 - accuracy: 0.6539 - val_loss: 0.6597 - val_accuracy: 0.6286\n",
            "Epoch 26/500\n",
            "7/7 [==============================] - 0s 8ms/step - loss: 0.6466 - accuracy: 0.6539 - val_loss: 0.6597 - val_accuracy: 0.6286\n",
            "Epoch 27/500\n",
            "7/7 [==============================] - 0s 7ms/step - loss: 0.6466 - accuracy: 0.6539 - val_loss: 0.6597 - val_accuracy: 0.6286\n",
            "Epoch 28/500\n",
            "7/7 [==============================] - 0s 8ms/step - loss: 0.6465 - accuracy: 0.6539 - val_loss: 0.6597 - val_accuracy: 0.6286\n",
            "Epoch 29/500\n",
            "7/7 [==============================] - 0s 7ms/step - loss: 0.6465 - accuracy: 0.6539 - val_loss: 0.6597 - val_accuracy: 0.6286\n",
            "Epoch 30/500\n",
            "7/7 [==============================] - 0s 7ms/step - loss: 0.6465 - accuracy: 0.6539 - val_loss: 0.6597 - val_accuracy: 0.6286\n",
            "Epoch 31/500\n",
            "7/7 [==============================] - 0s 7ms/step - loss: 0.6464 - accuracy: 0.6539 - val_loss: 0.6597 - val_accuracy: 0.6286\n",
            "Epoch 32/500\n",
            "7/7 [==============================] - 0s 7ms/step - loss: 0.6463 - accuracy: 0.6539 - val_loss: 0.6597 - val_accuracy: 0.6286\n",
            "Epoch 33/500\n",
            "7/7 [==============================] - 0s 8ms/step - loss: 0.6463 - accuracy: 0.6539 - val_loss: 0.6597 - val_accuracy: 0.6286\n",
            "Epoch 34/500\n",
            "7/7 [==============================] - 0s 7ms/step - loss: 0.6463 - accuracy: 0.6539 - val_loss: 0.6597 - val_accuracy: 0.6286\n",
            "Epoch 35/500\n",
            "7/7 [==============================] - 0s 7ms/step - loss: 0.6462 - accuracy: 0.6539 - val_loss: 0.6597 - val_accuracy: 0.6286\n",
            "Epoch 36/500\n",
            "7/7 [==============================] - 0s 8ms/step - loss: 0.6462 - accuracy: 0.6539 - val_loss: 0.6597 - val_accuracy: 0.6286\n",
            "Epoch 37/500\n",
            "7/7 [==============================] - 0s 7ms/step - loss: 0.6461 - accuracy: 0.6539 - val_loss: 0.6597 - val_accuracy: 0.6286\n",
            "Epoch 38/500\n",
            "7/7 [==============================] - 0s 7ms/step - loss: 0.6461 - accuracy: 0.6539 - val_loss: 0.6597 - val_accuracy: 0.6286\n",
            "Epoch 39/500\n",
            "7/7 [==============================] - 0s 7ms/step - loss: 0.6460 - accuracy: 0.6539 - val_loss: 0.6597 - val_accuracy: 0.6286\n",
            "Epoch 40/500\n",
            "7/7 [==============================] - 0s 7ms/step - loss: 0.6460 - accuracy: 0.6539 - val_loss: 0.6597 - val_accuracy: 0.6286\n",
            "Epoch 41/500\n",
            "7/7 [==============================] - 0s 8ms/step - loss: 0.6459 - accuracy: 0.6539 - val_loss: 0.6598 - val_accuracy: 0.6286\n",
            "Epoch 42/500\n",
            "7/7 [==============================] - 0s 7ms/step - loss: 0.6459 - accuracy: 0.6539 - val_loss: 0.6598 - val_accuracy: 0.6286\n",
            "Epoch 43/500\n",
            "7/7 [==============================] - 0s 7ms/step - loss: 0.6459 - accuracy: 0.6539 - val_loss: 0.6598 - val_accuracy: 0.6286\n",
            "Epoch 44/500\n",
            "7/7 [==============================] - 0s 7ms/step - loss: 0.6458 - accuracy: 0.6539 - val_loss: 0.6598 - val_accuracy: 0.6286\n",
            "Epoch 45/500\n",
            "7/7 [==============================] - 0s 7ms/step - loss: 0.6458 - accuracy: 0.6539 - val_loss: 0.6598 - val_accuracy: 0.6286\n",
            "Epoch 46/500\n",
            "7/7 [==============================] - 0s 8ms/step - loss: 0.6458 - accuracy: 0.6539 - val_loss: 0.6598 - val_accuracy: 0.6286\n",
            "Epoch 47/500\n",
            "7/7 [==============================] - 0s 7ms/step - loss: 0.6458 - accuracy: 0.6539 - val_loss: 0.6598 - val_accuracy: 0.6286\n",
            "Epoch 48/500\n",
            "7/7 [==============================] - 0s 7ms/step - loss: 0.6457 - accuracy: 0.6539 - val_loss: 0.6598 - val_accuracy: 0.6286\n",
            "Epoch 49/500\n",
            "7/7 [==============================] - 0s 7ms/step - loss: 0.6457 - accuracy: 0.6539 - val_loss: 0.6598 - val_accuracy: 0.6286\n",
            "Epoch 50/500\n",
            "7/7 [==============================] - 0s 7ms/step - loss: 0.6457 - accuracy: 0.6539 - val_loss: 0.6598 - val_accuracy: 0.6286\n",
            "Epoch 51/500\n",
            "7/7 [==============================] - 0s 7ms/step - loss: 0.6457 - accuracy: 0.6539 - val_loss: 0.6598 - val_accuracy: 0.6286\n",
            "Epoch 52/500\n",
            "7/7 [==============================] - 0s 7ms/step - loss: 0.6456 - accuracy: 0.6539 - val_loss: 0.6599 - val_accuracy: 0.6286\n",
            "Epoch 53/500\n",
            "7/7 [==============================] - 0s 9ms/step - loss: 0.6456 - accuracy: 0.6539 - val_loss: 0.6599 - val_accuracy: 0.6286\n",
            "Epoch 54/500\n",
            "7/7 [==============================] - 0s 7ms/step - loss: 0.6456 - accuracy: 0.6539 - val_loss: 0.6599 - val_accuracy: 0.6286\n",
            "Epoch 55/500\n",
            "7/7 [==============================] - 0s 7ms/step - loss: 0.6456 - accuracy: 0.6539 - val_loss: 0.6599 - val_accuracy: 0.6286\n",
            "Epoch 56/500\n",
            "7/7 [==============================] - 0s 7ms/step - loss: 0.6455 - accuracy: 0.6539 - val_loss: 0.6599 - val_accuracy: 0.6286\n",
            "Epoch 57/500\n",
            "7/7 [==============================] - 0s 7ms/step - loss: 0.6455 - accuracy: 0.6539 - val_loss: 0.6599 - val_accuracy: 0.6286\n",
            "Epoch 58/500\n",
            "7/7 [==============================] - 0s 7ms/step - loss: 0.6455 - accuracy: 0.6539 - val_loss: 0.6599 - val_accuracy: 0.6286\n",
            "Epoch 59/500\n",
            "7/7 [==============================] - 0s 8ms/step - loss: 0.6455 - accuracy: 0.6539 - val_loss: 0.6599 - val_accuracy: 0.6286\n",
            "Epoch 60/500\n",
            "7/7 [==============================] - 0s 7ms/step - loss: 0.6455 - accuracy: 0.6539 - val_loss: 0.6600 - val_accuracy: 0.6286\n",
            "Epoch 61/500\n",
            "7/7 [==============================] - 0s 8ms/step - loss: 0.6454 - accuracy: 0.6539 - val_loss: 0.6600 - val_accuracy: 0.6286\n",
            "Epoch 62/500\n",
            "7/7 [==============================] - 0s 7ms/step - loss: 0.6454 - accuracy: 0.6539 - val_loss: 0.6600 - val_accuracy: 0.6286\n",
            "Epoch 63/500\n",
            "7/7 [==============================] - 0s 8ms/step - loss: 0.6454 - accuracy: 0.6539 - val_loss: 0.6600 - val_accuracy: 0.6286\n",
            "Epoch 64/500\n",
            "7/7 [==============================] - 0s 7ms/step - loss: 0.6454 - accuracy: 0.6539 - val_loss: 0.6600 - val_accuracy: 0.6286\n",
            "Epoch 65/500\n",
            "7/7 [==============================] - 0s 7ms/step - loss: 0.6454 - accuracy: 0.6539 - val_loss: 0.6600 - val_accuracy: 0.6286\n",
            "Epoch 66/500\n",
            "7/7 [==============================] - 0s 7ms/step - loss: 0.6454 - accuracy: 0.6539 - val_loss: 0.6600 - val_accuracy: 0.6286\n",
            "Epoch 67/500\n",
            "7/7 [==============================] - 0s 7ms/step - loss: 0.6454 - accuracy: 0.6539 - val_loss: 0.6600 - val_accuracy: 0.6286\n",
            "Epoch 68/500\n",
            "7/7 [==============================] - 0s 7ms/step - loss: 0.6454 - accuracy: 0.6539 - val_loss: 0.6600 - val_accuracy: 0.6286\n",
            "Epoch 69/500\n",
            "7/7 [==============================] - 0s 7ms/step - loss: 0.6453 - accuracy: 0.6539 - val_loss: 0.6601 - val_accuracy: 0.6286\n",
            "Epoch 70/500\n",
            "7/7 [==============================] - 0s 7ms/step - loss: 0.6453 - accuracy: 0.6539 - val_loss: 0.6601 - val_accuracy: 0.6286\n",
            "Epoch 71/500\n",
            "7/7 [==============================] - 0s 8ms/step - loss: 0.6453 - accuracy: 0.6539 - val_loss: 0.6601 - val_accuracy: 0.6286\n",
            "Epoch 72/500\n",
            "7/7 [==============================] - 0s 8ms/step - loss: 0.6453 - accuracy: 0.6539 - val_loss: 0.6601 - val_accuracy: 0.6286\n",
            "Epoch 73/500\n",
            "7/7 [==============================] - 0s 7ms/step - loss: 0.6453 - accuracy: 0.6539 - val_loss: 0.6601 - val_accuracy: 0.6286\n",
            "Epoch 74/500\n",
            "7/7 [==============================] - 0s 7ms/step - loss: 0.6453 - accuracy: 0.6539 - val_loss: 0.6601 - val_accuracy: 0.6286\n",
            "Epoch 75/500\n",
            "7/7 [==============================] - 0s 7ms/step - loss: 0.6453 - accuracy: 0.6539 - val_loss: 0.6601 - val_accuracy: 0.6286\n",
            "Epoch 76/500\n",
            "7/7 [==============================] - 0s 7ms/step - loss: 0.6453 - accuracy: 0.6539 - val_loss: 0.6601 - val_accuracy: 0.6286\n",
            "Epoch 77/500\n",
            "7/7 [==============================] - 0s 7ms/step - loss: 0.6452 - accuracy: 0.6539 - val_loss: 0.6602 - val_accuracy: 0.6286\n",
            "Epoch 78/500\n",
            "7/7 [==============================] - 0s 7ms/step - loss: 0.6452 - accuracy: 0.6539 - val_loss: 0.6602 - val_accuracy: 0.6286\n",
            "Epoch 79/500\n",
            "7/7 [==============================] - 0s 7ms/step - loss: 0.6452 - accuracy: 0.6539 - val_loss: 0.6602 - val_accuracy: 0.6286\n",
            "Epoch 80/500\n",
            "7/7 [==============================] - 0s 7ms/step - loss: 0.6452 - accuracy: 0.6539 - val_loss: 0.6602 - val_accuracy: 0.6286\n",
            "Epoch 81/500\n",
            "7/7 [==============================] - 0s 7ms/step - loss: 0.6452 - accuracy: 0.6539 - val_loss: 0.6602 - val_accuracy: 0.6286\n",
            "Epoch 82/500\n",
            "7/7 [==============================] - 0s 7ms/step - loss: 0.6452 - accuracy: 0.6539 - val_loss: 0.6602 - val_accuracy: 0.6286\n",
            "Epoch 83/500\n",
            "7/7 [==============================] - 0s 7ms/step - loss: 0.6452 - accuracy: 0.6539 - val_loss: 0.6602 - val_accuracy: 0.6286\n",
            "Epoch 84/500\n",
            "7/7 [==============================] - 0s 7ms/step - loss: 0.6452 - accuracy: 0.6539 - val_loss: 0.6603 - val_accuracy: 0.6286\n",
            "Epoch 85/500\n",
            "7/7 [==============================] - 0s 7ms/step - loss: 0.6452 - accuracy: 0.6539 - val_loss: 0.6603 - val_accuracy: 0.6286\n",
            "Epoch 86/500\n",
            "7/7 [==============================] - 0s 7ms/step - loss: 0.6452 - accuracy: 0.6539 - val_loss: 0.6603 - val_accuracy: 0.6286\n",
            "Epoch 87/500\n",
            "7/7 [==============================] - 0s 8ms/step - loss: 0.6452 - accuracy: 0.6539 - val_loss: 0.6603 - val_accuracy: 0.6286\n",
            "Epoch 88/500\n",
            "7/7 [==============================] - 0s 7ms/step - loss: 0.6451 - accuracy: 0.6539 - val_loss: 0.6603 - val_accuracy: 0.6286\n",
            "Epoch 89/500\n",
            "7/7 [==============================] - 0s 7ms/step - loss: 0.6451 - accuracy: 0.6539 - val_loss: 0.6603 - val_accuracy: 0.6286\n",
            "Epoch 90/500\n",
            "7/7 [==============================] - 0s 7ms/step - loss: 0.6451 - accuracy: 0.6539 - val_loss: 0.6603 - val_accuracy: 0.6286\n",
            "Epoch 91/500\n",
            "7/7 [==============================] - 0s 7ms/step - loss: 0.6451 - accuracy: 0.6539 - val_loss: 0.6604 - val_accuracy: 0.6286\n",
            "Epoch 92/500\n",
            "7/7 [==============================] - 0s 7ms/step - loss: 0.6451 - accuracy: 0.6539 - val_loss: 0.6604 - val_accuracy: 0.6286\n",
            "Epoch 93/500\n",
            "7/7 [==============================] - 0s 7ms/step - loss: 0.6451 - accuracy: 0.6539 - val_loss: 0.6604 - val_accuracy: 0.6286\n",
            "Epoch 94/500\n",
            "7/7 [==============================] - 0s 7ms/step - loss: 0.6451 - accuracy: 0.6539 - val_loss: 0.6604 - val_accuracy: 0.6286\n",
            "Epoch 95/500\n",
            "7/7 [==============================] - 0s 7ms/step - loss: 0.6451 - accuracy: 0.6539 - val_loss: 0.6604 - val_accuracy: 0.6286\n",
            "Epoch 96/500\n",
            "7/7 [==============================] - 0s 7ms/step - loss: 0.6451 - accuracy: 0.6539 - val_loss: 0.6604 - val_accuracy: 0.6286\n",
            "Epoch 97/500\n",
            "7/7 [==============================] - 0s 7ms/step - loss: 0.6451 - accuracy: 0.6539 - val_loss: 0.6604 - val_accuracy: 0.6286\n",
            "Epoch 98/500\n",
            "7/7 [==============================] - 0s 7ms/step - loss: 0.6451 - accuracy: 0.6539 - val_loss: 0.6604 - val_accuracy: 0.6286\n",
            "Epoch 99/500\n",
            "7/7 [==============================] - 0s 8ms/step - loss: 0.6451 - accuracy: 0.6539 - val_loss: 0.6604 - val_accuracy: 0.6286\n",
            "Epoch 100/500\n",
            "7/7 [==============================] - 0s 8ms/step - loss: 0.6451 - accuracy: 0.6539 - val_loss: 0.6605 - val_accuracy: 0.6286\n",
            "Epoch 101/500\n",
            "7/7 [==============================] - 0s 7ms/step - loss: 0.6451 - accuracy: 0.6539 - val_loss: 0.6605 - val_accuracy: 0.6286\n",
            "Epoch 102/500\n",
            "7/7 [==============================] - 0s 7ms/step - loss: 0.6451 - accuracy: 0.6539 - val_loss: 0.6605 - val_accuracy: 0.6286\n",
            "Epoch 103/500\n",
            "7/7 [==============================] - 0s 7ms/step - loss: 0.6451 - accuracy: 0.6539 - val_loss: 0.6605 - val_accuracy: 0.6286\n",
            "Epoch 104/500\n",
            "7/7 [==============================] - 0s 7ms/step - loss: 0.6451 - accuracy: 0.6539 - val_loss: 0.6605 - val_accuracy: 0.6286\n",
            "Epoch 105/500\n",
            "7/7 [==============================] - 0s 7ms/step - loss: 0.6451 - accuracy: 0.6539 - val_loss: 0.6605 - val_accuracy: 0.6286\n",
            "Epoch 106/500\n",
            "7/7 [==============================] - 0s 7ms/step - loss: 0.6451 - accuracy: 0.6539 - val_loss: 0.6605 - val_accuracy: 0.6286\n",
            "Epoch 107/500\n",
            "7/7 [==============================] - 0s 7ms/step - loss: 0.6451 - accuracy: 0.6539 - val_loss: 0.6605 - val_accuracy: 0.6286\n",
            "Epoch 108/500\n",
            "7/7 [==============================] - 0s 7ms/step - loss: 0.6451 - accuracy: 0.6539 - val_loss: 0.6605 - val_accuracy: 0.6286\n",
            "Epoch 109/500\n",
            "7/7 [==============================] - 0s 7ms/step - loss: 0.6450 - accuracy: 0.6539 - val_loss: 0.6606 - val_accuracy: 0.6286\n",
            "Epoch 110/500\n",
            "7/7 [==============================] - 0s 8ms/step - loss: 0.6450 - accuracy: 0.6539 - val_loss: 0.6606 - val_accuracy: 0.6286\n",
            "Epoch 111/500\n",
            "7/7 [==============================] - 0s 7ms/step - loss: 0.6450 - accuracy: 0.6539 - val_loss: 0.6606 - val_accuracy: 0.6286\n",
            "Epoch 112/500\n",
            "7/7 [==============================] - 0s 7ms/step - loss: 0.6450 - accuracy: 0.6539 - val_loss: 0.6606 - val_accuracy: 0.6286\n",
            "Epoch 113/500\n",
            "7/7 [==============================] - 0s 7ms/step - loss: 0.6450 - accuracy: 0.6539 - val_loss: 0.6606 - val_accuracy: 0.6286\n",
            "Epoch 114/500\n",
            "7/7 [==============================] - 0s 7ms/step - loss: 0.6450 - accuracy: 0.6539 - val_loss: 0.6606 - val_accuracy: 0.6286\n",
            "Epoch 115/500\n",
            "7/7 [==============================] - 0s 7ms/step - loss: 0.6450 - accuracy: 0.6539 - val_loss: 0.6606 - val_accuracy: 0.6286\n",
            "Epoch 116/500\n",
            "7/7 [==============================] - 0s 7ms/step - loss: 0.6450 - accuracy: 0.6539 - val_loss: 0.6606 - val_accuracy: 0.6286\n",
            "Epoch 117/500\n",
            "7/7 [==============================] - 0s 7ms/step - loss: 0.6450 - accuracy: 0.6539 - val_loss: 0.6606 - val_accuracy: 0.6286\n",
            "Epoch 118/500\n",
            "7/7 [==============================] - 0s 8ms/step - loss: 0.6450 - accuracy: 0.6539 - val_loss: 0.6607 - val_accuracy: 0.6286\n",
            "Epoch 119/500\n",
            "7/7 [==============================] - 0s 9ms/step - loss: 0.6450 - accuracy: 0.6539 - val_loss: 0.6607 - val_accuracy: 0.6286\n",
            "Epoch 120/500\n",
            "7/7 [==============================] - 0s 8ms/step - loss: 0.6450 - accuracy: 0.6539 - val_loss: 0.6607 - val_accuracy: 0.6286\n",
            "Epoch 121/500\n",
            "7/7 [==============================] - 0s 8ms/step - loss: 0.6450 - accuracy: 0.6539 - val_loss: 0.6607 - val_accuracy: 0.6286\n",
            "Epoch 122/500\n",
            "7/7 [==============================] - 0s 7ms/step - loss: 0.6450 - accuracy: 0.6539 - val_loss: 0.6607 - val_accuracy: 0.6286\n",
            "Epoch 123/500\n",
            "7/7 [==============================] - 0s 7ms/step - loss: 0.6450 - accuracy: 0.6539 - val_loss: 0.6607 - val_accuracy: 0.6286\n",
            "Epoch 124/500\n",
            "7/7 [==============================] - 0s 7ms/step - loss: 0.6450 - accuracy: 0.6539 - val_loss: 0.6607 - val_accuracy: 0.6286\n",
            "Epoch 125/500\n",
            "7/7 [==============================] - 0s 8ms/step - loss: 0.6450 - accuracy: 0.6539 - val_loss: 0.6607 - val_accuracy: 0.6286\n",
            "Epoch 126/500\n",
            "7/7 [==============================] - 0s 7ms/step - loss: 0.6450 - accuracy: 0.6539 - val_loss: 0.6608 - val_accuracy: 0.6286\n",
            "Epoch 127/500\n",
            "7/7 [==============================] - 0s 8ms/step - loss: 0.6450 - accuracy: 0.6539 - val_loss: 0.6608 - val_accuracy: 0.6286\n",
            "Epoch 128/500\n",
            "7/7 [==============================] - 0s 8ms/step - loss: 0.6450 - accuracy: 0.6539 - val_loss: 0.6608 - val_accuracy: 0.6286\n",
            "Epoch 129/500\n",
            "7/7 [==============================] - 0s 7ms/step - loss: 0.6450 - accuracy: 0.6539 - val_loss: 0.6608 - val_accuracy: 0.6286\n",
            "Epoch 130/500\n",
            "7/7 [==============================] - 0s 7ms/step - loss: 0.6450 - accuracy: 0.6539 - val_loss: 0.6608 - val_accuracy: 0.6286\n",
            "Epoch 131/500\n",
            "7/7 [==============================] - 0s 7ms/step - loss: 0.6450 - accuracy: 0.6539 - val_loss: 0.6608 - val_accuracy: 0.6286\n",
            "Epoch 132/500\n",
            "7/7 [==============================] - 0s 7ms/step - loss: 0.6450 - accuracy: 0.6539 - val_loss: 0.6608 - val_accuracy: 0.6286\n",
            "Epoch 133/500\n",
            "7/7 [==============================] - 0s 7ms/step - loss: 0.6450 - accuracy: 0.6539 - val_loss: 0.6608 - val_accuracy: 0.6286\n",
            "Epoch 134/500\n",
            "7/7 [==============================] - 0s 7ms/step - loss: 0.6450 - accuracy: 0.6539 - val_loss: 0.6609 - val_accuracy: 0.6286\n",
            "Epoch 135/500\n",
            "7/7 [==============================] - 0s 8ms/step - loss: 0.6450 - accuracy: 0.6539 - val_loss: 0.6609 - val_accuracy: 0.6286\n",
            "Epoch 136/500\n",
            "7/7 [==============================] - 0s 7ms/step - loss: 0.6450 - accuracy: 0.6539 - val_loss: 0.6609 - val_accuracy: 0.6286\n",
            "Epoch 137/500\n",
            "7/7 [==============================] - 0s 7ms/step - loss: 0.6450 - accuracy: 0.6539 - val_loss: 0.6609 - val_accuracy: 0.6286\n",
            "Epoch 138/500\n",
            "7/7 [==============================] - 0s 7ms/step - loss: 0.6450 - accuracy: 0.6539 - val_loss: 0.6609 - val_accuracy: 0.6286\n",
            "Epoch 139/500\n",
            "7/7 [==============================] - 0s 8ms/step - loss: 0.6450 - accuracy: 0.6539 - val_loss: 0.6609 - val_accuracy: 0.6286\n",
            "Epoch 140/500\n",
            "7/7 [==============================] - 0s 7ms/step - loss: 0.6450 - accuracy: 0.6539 - val_loss: 0.6609 - val_accuracy: 0.6286\n",
            "Epoch 141/500\n",
            "7/7 [==============================] - 0s 7ms/step - loss: 0.6450 - accuracy: 0.6539 - val_loss: 0.6609 - val_accuracy: 0.6286\n",
            "Epoch 142/500\n",
            "7/7 [==============================] - 0s 7ms/step - loss: 0.6450 - accuracy: 0.6539 - val_loss: 0.6609 - val_accuracy: 0.6286\n",
            "Epoch 143/500\n",
            "7/7 [==============================] - 0s 8ms/step - loss: 0.6450 - accuracy: 0.6539 - val_loss: 0.6609 - val_accuracy: 0.6286\n",
            "Epoch 144/500\n",
            "7/7 [==============================] - 0s 8ms/step - loss: 0.6450 - accuracy: 0.6539 - val_loss: 0.6609 - val_accuracy: 0.6286\n",
            "Epoch 145/500\n",
            "7/7 [==============================] - 0s 8ms/step - loss: 0.6450 - accuracy: 0.6539 - val_loss: 0.6610 - val_accuracy: 0.6286\n",
            "Epoch 146/500\n",
            "7/7 [==============================] - 0s 8ms/step - loss: 0.6450 - accuracy: 0.6539 - val_loss: 0.6610 - val_accuracy: 0.6286\n",
            "Epoch 147/500\n",
            "7/7 [==============================] - 0s 7ms/step - loss: 0.6450 - accuracy: 0.6539 - val_loss: 0.6610 - val_accuracy: 0.6286\n",
            "Epoch 148/500\n",
            "7/7 [==============================] - 0s 8ms/step - loss: 0.6450 - accuracy: 0.6539 - val_loss: 0.6610 - val_accuracy: 0.6286\n",
            "Epoch 149/500\n",
            "7/7 [==============================] - 0s 7ms/step - loss: 0.6450 - accuracy: 0.6539 - val_loss: 0.6610 - val_accuracy: 0.6286\n",
            "Epoch 150/500\n",
            "7/7 [==============================] - 0s 7ms/step - loss: 0.6450 - accuracy: 0.6539 - val_loss: 0.6610 - val_accuracy: 0.6286\n",
            "Epoch 151/500\n",
            "7/7 [==============================] - 0s 7ms/step - loss: 0.6450 - accuracy: 0.6539 - val_loss: 0.6610 - val_accuracy: 0.6286\n",
            "Epoch 152/500\n",
            "7/7 [==============================] - 0s 7ms/step - loss: 0.6450 - accuracy: 0.6539 - val_loss: 0.6610 - val_accuracy: 0.6286\n",
            "Epoch 153/500\n",
            "7/7 [==============================] - 0s 8ms/step - loss: 0.6450 - accuracy: 0.6539 - val_loss: 0.6610 - val_accuracy: 0.6286\n",
            "Epoch 154/500\n",
            "7/7 [==============================] - 0s 9ms/step - loss: 0.6450 - accuracy: 0.6539 - val_loss: 0.6610 - val_accuracy: 0.6286\n",
            "Epoch 155/500\n",
            "7/7 [==============================] - 0s 7ms/step - loss: 0.6450 - accuracy: 0.6539 - val_loss: 0.6610 - val_accuracy: 0.6286\n",
            "Epoch 156/500\n",
            "7/7 [==============================] - 0s 8ms/step - loss: 0.6450 - accuracy: 0.6539 - val_loss: 0.6610 - val_accuracy: 0.6286\n",
            "Epoch 157/500\n",
            "7/7 [==============================] - 0s 8ms/step - loss: 0.6450 - accuracy: 0.6539 - val_loss: 0.6610 - val_accuracy: 0.6286\n",
            "Epoch 158/500\n",
            "7/7 [==============================] - 0s 8ms/step - loss: 0.6450 - accuracy: 0.6539 - val_loss: 0.6610 - val_accuracy: 0.6286\n",
            "Epoch 159/500\n",
            "7/7 [==============================] - 0s 7ms/step - loss: 0.6450 - accuracy: 0.6539 - val_loss: 0.6610 - val_accuracy: 0.6286\n",
            "Epoch 160/500\n",
            "7/7 [==============================] - 0s 7ms/step - loss: 0.6450 - accuracy: 0.6539 - val_loss: 0.6610 - val_accuracy: 0.6286\n",
            "Epoch 161/500\n",
            "7/7 [==============================] - 0s 9ms/step - loss: 0.6450 - accuracy: 0.6539 - val_loss: 0.6610 - val_accuracy: 0.6286\n",
            "Epoch 162/500\n",
            "7/7 [==============================] - 0s 8ms/step - loss: 0.6450 - accuracy: 0.6539 - val_loss: 0.6610 - val_accuracy: 0.6286\n",
            "Epoch 163/500\n",
            "7/7 [==============================] - 0s 8ms/step - loss: 0.6450 - accuracy: 0.6539 - val_loss: 0.6610 - val_accuracy: 0.6286\n",
            "Epoch 164/500\n",
            "7/7 [==============================] - 0s 7ms/step - loss: 0.6450 - accuracy: 0.6539 - val_loss: 0.6610 - val_accuracy: 0.6286\n",
            "Epoch 165/500\n",
            "7/7 [==============================] - 0s 7ms/step - loss: 0.6450 - accuracy: 0.6539 - val_loss: 0.6610 - val_accuracy: 0.6286\n",
            "Epoch 166/500\n",
            "7/7 [==============================] - 0s 7ms/step - loss: 0.6450 - accuracy: 0.6539 - val_loss: 0.6610 - val_accuracy: 0.6286\n",
            "Epoch 167/500\n",
            "7/7 [==============================] - 0s 7ms/step - loss: 0.6450 - accuracy: 0.6539 - val_loss: 0.6610 - val_accuracy: 0.6286\n",
            "Epoch 168/500\n",
            "7/7 [==============================] - 0s 8ms/step - loss: 0.6450 - accuracy: 0.6539 - val_loss: 0.6610 - val_accuracy: 0.6286\n",
            "Epoch 169/500\n",
            "7/7 [==============================] - 0s 7ms/step - loss: 0.6450 - accuracy: 0.6539 - val_loss: 0.6610 - val_accuracy: 0.6286\n",
            "Epoch 170/500\n",
            "7/7 [==============================] - 0s 8ms/step - loss: 0.6450 - accuracy: 0.6539 - val_loss: 0.6610 - val_accuracy: 0.6286\n",
            "Epoch 171/500\n",
            "7/7 [==============================] - 0s 7ms/step - loss: 0.6450 - accuracy: 0.6539 - val_loss: 0.6610 - val_accuracy: 0.6286\n",
            "Epoch 172/500\n",
            "7/7 [==============================] - 0s 7ms/step - loss: 0.6450 - accuracy: 0.6539 - val_loss: 0.6610 - val_accuracy: 0.6286\n",
            "Epoch 173/500\n",
            "7/7 [==============================] - 0s 7ms/step - loss: 0.6450 - accuracy: 0.6539 - val_loss: 0.6610 - val_accuracy: 0.6286\n",
            "Epoch 174/500\n",
            "7/7 [==============================] - 0s 8ms/step - loss: 0.6450 - accuracy: 0.6539 - val_loss: 0.6610 - val_accuracy: 0.6286\n",
            "Epoch 175/500\n",
            "7/7 [==============================] - 0s 8ms/step - loss: 0.6450 - accuracy: 0.6539 - val_loss: 0.6611 - val_accuracy: 0.6286\n",
            "Epoch 176/500\n",
            "7/7 [==============================] - 0s 7ms/step - loss: 0.6450 - accuracy: 0.6539 - val_loss: 0.6611 - val_accuracy: 0.6286\n",
            "Epoch 177/500\n",
            "7/7 [==============================] - 0s 8ms/step - loss: 0.6450 - accuracy: 0.6539 - val_loss: 0.6611 - val_accuracy: 0.6286\n",
            "Epoch 178/500\n",
            "7/7 [==============================] - 0s 7ms/step - loss: 0.6450 - accuracy: 0.6539 - val_loss: 0.6611 - val_accuracy: 0.6286\n",
            "Epoch 179/500\n",
            "7/7 [==============================] - 0s 8ms/step - loss: 0.6450 - accuracy: 0.6539 - val_loss: 0.6610 - val_accuracy: 0.6286\n",
            "Epoch 180/500\n",
            "7/7 [==============================] - 0s 7ms/step - loss: 0.6450 - accuracy: 0.6539 - val_loss: 0.6611 - val_accuracy: 0.6286\n",
            "Epoch 181/500\n",
            "7/7 [==============================] - 0s 7ms/step - loss: 0.6450 - accuracy: 0.6539 - val_loss: 0.6611 - val_accuracy: 0.6286\n",
            "Epoch 182/500\n",
            "7/7 [==============================] - 0s 7ms/step - loss: 0.6450 - accuracy: 0.6539 - val_loss: 0.6610 - val_accuracy: 0.6286\n",
            "Epoch 183/500\n",
            "7/7 [==============================] - 0s 7ms/step - loss: 0.6450 - accuracy: 0.6539 - val_loss: 0.6610 - val_accuracy: 0.6286\n",
            "Epoch 184/500\n",
            "7/7 [==============================] - 0s 7ms/step - loss: 0.6450 - accuracy: 0.6539 - val_loss: 0.6610 - val_accuracy: 0.6286\n",
            "Epoch 185/500\n",
            "7/7 [==============================] - 0s 7ms/step - loss: 0.6450 - accuracy: 0.6539 - val_loss: 0.6610 - val_accuracy: 0.6286\n",
            "Epoch 186/500\n",
            "7/7 [==============================] - 0s 7ms/step - loss: 0.6450 - accuracy: 0.6539 - val_loss: 0.6611 - val_accuracy: 0.6286\n",
            "Epoch 187/500\n",
            "7/7 [==============================] - 0s 8ms/step - loss: 0.6450 - accuracy: 0.6539 - val_loss: 0.6611 - val_accuracy: 0.6286\n",
            "Epoch 188/500\n",
            "7/7 [==============================] - 0s 7ms/step - loss: 0.6450 - accuracy: 0.6539 - val_loss: 0.6611 - val_accuracy: 0.6286\n",
            "Epoch 189/500\n",
            "7/7 [==============================] - 0s 7ms/step - loss: 0.6450 - accuracy: 0.6539 - val_loss: 0.6611 - val_accuracy: 0.6286\n",
            "Epoch 190/500\n",
            "7/7 [==============================] - 0s 7ms/step - loss: 0.6450 - accuracy: 0.6539 - val_loss: 0.6611 - val_accuracy: 0.6286\n",
            "Epoch 191/500\n",
            "7/7 [==============================] - 0s 7ms/step - loss: 0.6450 - accuracy: 0.6539 - val_loss: 0.6611 - val_accuracy: 0.6286\n",
            "Epoch 192/500\n",
            "7/7 [==============================] - 0s 8ms/step - loss: 0.6450 - accuracy: 0.6539 - val_loss: 0.6611 - val_accuracy: 0.6286\n",
            "Epoch 193/500\n",
            "7/7 [==============================] - 0s 7ms/step - loss: 0.6450 - accuracy: 0.6539 - val_loss: 0.6611 - val_accuracy: 0.6286\n",
            "Epoch 194/500\n",
            "7/7 [==============================] - 0s 9ms/step - loss: 0.6450 - accuracy: 0.6539 - val_loss: 0.6611 - val_accuracy: 0.6286\n",
            "Epoch 195/500\n",
            "7/7 [==============================] - 0s 8ms/step - loss: 0.6450 - accuracy: 0.6539 - val_loss: 0.6611 - val_accuracy: 0.6286\n",
            "Epoch 196/500\n",
            "7/7 [==============================] - 0s 8ms/step - loss: 0.6450 - accuracy: 0.6539 - val_loss: 0.6611 - val_accuracy: 0.6286\n",
            "Epoch 197/500\n",
            "7/7 [==============================] - 0s 7ms/step - loss: 0.6450 - accuracy: 0.6539 - val_loss: 0.6611 - val_accuracy: 0.6286\n",
            "Epoch 198/500\n",
            "7/7 [==============================] - 0s 7ms/step - loss: 0.6450 - accuracy: 0.6539 - val_loss: 0.6611 - val_accuracy: 0.6286\n",
            "Epoch 199/500\n",
            "7/7 [==============================] - 0s 7ms/step - loss: 0.6450 - accuracy: 0.6539 - val_loss: 0.6611 - val_accuracy: 0.6286\n",
            "Epoch 200/500\n",
            "7/7 [==============================] - 0s 7ms/step - loss: 0.6450 - accuracy: 0.6539 - val_loss: 0.6611 - val_accuracy: 0.6286\n",
            "Epoch 201/500\n",
            "7/7 [==============================] - 0s 7ms/step - loss: 0.6450 - accuracy: 0.6539 - val_loss: 0.6611 - val_accuracy: 0.6286\n",
            "Epoch 202/500\n",
            "7/7 [==============================] - 0s 7ms/step - loss: 0.6450 - accuracy: 0.6539 - val_loss: 0.6611 - val_accuracy: 0.6286\n",
            "Epoch 203/500\n",
            "7/7 [==============================] - 0s 8ms/step - loss: 0.6450 - accuracy: 0.6539 - val_loss: 0.6611 - val_accuracy: 0.6286\n",
            "Epoch 204/500\n",
            "7/7 [==============================] - 0s 7ms/step - loss: 0.6450 - accuracy: 0.6539 - val_loss: 0.6611 - val_accuracy: 0.6286\n",
            "Epoch 205/500\n",
            "7/7 [==============================] - 0s 8ms/step - loss: 0.6450 - accuracy: 0.6539 - val_loss: 0.6611 - val_accuracy: 0.6286\n",
            "Epoch 206/500\n",
            "7/7 [==============================] - 0s 7ms/step - loss: 0.6450 - accuracy: 0.6539 - val_loss: 0.6611 - val_accuracy: 0.6286\n",
            "Epoch 207/500\n",
            "7/7 [==============================] - 0s 7ms/step - loss: 0.6450 - accuracy: 0.6539 - val_loss: 0.6611 - val_accuracy: 0.6286\n",
            "Epoch 208/500\n",
            "7/7 [==============================] - 0s 7ms/step - loss: 0.6450 - accuracy: 0.6539 - val_loss: 0.6611 - val_accuracy: 0.6286\n",
            "Epoch 209/500\n",
            "7/7 [==============================] - 0s 8ms/step - loss: 0.6450 - accuracy: 0.6539 - val_loss: 0.6611 - val_accuracy: 0.6286\n",
            "Epoch 210/500\n",
            "7/7 [==============================] - 0s 7ms/step - loss: 0.6450 - accuracy: 0.6539 - val_loss: 0.6611 - val_accuracy: 0.6286\n",
            "Epoch 211/500\n",
            "7/7 [==============================] - 0s 9ms/step - loss: 0.6450 - accuracy: 0.6539 - val_loss: 0.6611 - val_accuracy: 0.6286\n",
            "Epoch 212/500\n",
            "7/7 [==============================] - 0s 7ms/step - loss: 0.6450 - accuracy: 0.6539 - val_loss: 0.6611 - val_accuracy: 0.6286\n",
            "Epoch 213/500\n",
            "7/7 [==============================] - 0s 8ms/step - loss: 0.6450 - accuracy: 0.6539 - val_loss: 0.6611 - val_accuracy: 0.6286\n",
            "Epoch 214/500\n",
            "7/7 [==============================] - 0s 7ms/step - loss: 0.6450 - accuracy: 0.6539 - val_loss: 0.6611 - val_accuracy: 0.6286\n",
            "Epoch 215/500\n",
            "7/7 [==============================] - 0s 9ms/step - loss: 0.6450 - accuracy: 0.6539 - val_loss: 0.6611 - val_accuracy: 0.6286\n",
            "Epoch 216/500\n",
            "7/7 [==============================] - 0s 8ms/step - loss: 0.6450 - accuracy: 0.6539 - val_loss: 0.6611 - val_accuracy: 0.6286\n",
            "Epoch 217/500\n",
            "7/7 [==============================] - 0s 8ms/step - loss: 0.6450 - accuracy: 0.6539 - val_loss: 0.6611 - val_accuracy: 0.6286\n",
            "Epoch 218/500\n",
            "7/7 [==============================] - 0s 8ms/step - loss: 0.6450 - accuracy: 0.6539 - val_loss: 0.6611 - val_accuracy: 0.6286\n",
            "Epoch 219/500\n",
            "7/7 [==============================] - 0s 9ms/step - loss: 0.6450 - accuracy: 0.6539 - val_loss: 0.6611 - val_accuracy: 0.6286\n",
            "Epoch 220/500\n",
            "7/7 [==============================] - 0s 7ms/step - loss: 0.6450 - accuracy: 0.6539 - val_loss: 0.6611 - val_accuracy: 0.6286\n",
            "Epoch 221/500\n",
            "7/7 [==============================] - 0s 8ms/step - loss: 0.6450 - accuracy: 0.6539 - val_loss: 0.6611 - val_accuracy: 0.6286\n",
            "Epoch 222/500\n",
            "7/7 [==============================] - 0s 7ms/step - loss: 0.6450 - accuracy: 0.6539 - val_loss: 0.6611 - val_accuracy: 0.6286\n",
            "Epoch 223/500\n",
            "7/7 [==============================] - 0s 7ms/step - loss: 0.6450 - accuracy: 0.6539 - val_loss: 0.6611 - val_accuracy: 0.6286\n",
            "Epoch 224/500\n",
            "7/7 [==============================] - 0s 7ms/step - loss: 0.6450 - accuracy: 0.6539 - val_loss: 0.6611 - val_accuracy: 0.6286\n",
            "Epoch 225/500\n",
            "7/7 [==============================] - 0s 8ms/step - loss: 0.6450 - accuracy: 0.6539 - val_loss: 0.6611 - val_accuracy: 0.6286\n",
            "Epoch 226/500\n",
            "7/7 [==============================] - 0s 7ms/step - loss: 0.6450 - accuracy: 0.6539 - val_loss: 0.6611 - val_accuracy: 0.6286\n",
            "Epoch 227/500\n",
            "7/7 [==============================] - 0s 7ms/step - loss: 0.6450 - accuracy: 0.6539 - val_loss: 0.6611 - val_accuracy: 0.6286\n",
            "Epoch 228/500\n",
            "7/7 [==============================] - 0s 7ms/step - loss: 0.6450 - accuracy: 0.6539 - val_loss: 0.6611 - val_accuracy: 0.6286\n",
            "Epoch 229/500\n",
            "7/7 [==============================] - 0s 8ms/step - loss: 0.6450 - accuracy: 0.6539 - val_loss: 0.6611 - val_accuracy: 0.6286\n",
            "Epoch 230/500\n",
            "7/7 [==============================] - 0s 7ms/step - loss: 0.6450 - accuracy: 0.6539 - val_loss: 0.6610 - val_accuracy: 0.6286\n",
            "Epoch 231/500\n",
            "7/7 [==============================] - 0s 8ms/step - loss: 0.6450 - accuracy: 0.6539 - val_loss: 0.6611 - val_accuracy: 0.6286\n",
            "Epoch 232/500\n",
            "7/7 [==============================] - 0s 8ms/step - loss: 0.6450 - accuracy: 0.6539 - val_loss: 0.6611 - val_accuracy: 0.6286\n",
            "Epoch 233/500\n",
            "7/7 [==============================] - 0s 7ms/step - loss: 0.6450 - accuracy: 0.6539 - val_loss: 0.6610 - val_accuracy: 0.6286\n",
            "Epoch 234/500\n",
            "7/7 [==============================] - 0s 8ms/step - loss: 0.6450 - accuracy: 0.6539 - val_loss: 0.6611 - val_accuracy: 0.6286\n",
            "Epoch 235/500\n",
            "7/7 [==============================] - 0s 8ms/step - loss: 0.6450 - accuracy: 0.6539 - val_loss: 0.6611 - val_accuracy: 0.6286\n",
            "Epoch 236/500\n",
            "7/7 [==============================] - 0s 7ms/step - loss: 0.6450 - accuracy: 0.6539 - val_loss: 0.6611 - val_accuracy: 0.6286\n",
            "Epoch 237/500\n",
            "7/7 [==============================] - 0s 8ms/step - loss: 0.6450 - accuracy: 0.6539 - val_loss: 0.6611 - val_accuracy: 0.6286\n",
            "Epoch 238/500\n",
            "7/7 [==============================] - 0s 7ms/step - loss: 0.6450 - accuracy: 0.6539 - val_loss: 0.6611 - val_accuracy: 0.6286\n",
            "Epoch 239/500\n",
            "7/7 [==============================] - 0s 7ms/step - loss: 0.6450 - accuracy: 0.6539 - val_loss: 0.6611 - val_accuracy: 0.6286\n",
            "Epoch 240/500\n",
            "7/7 [==============================] - 0s 8ms/step - loss: 0.6450 - accuracy: 0.6539 - val_loss: 0.6611 - val_accuracy: 0.6286\n",
            "Epoch 241/500\n",
            "7/7 [==============================] - 0s 8ms/step - loss: 0.6450 - accuracy: 0.6539 - val_loss: 0.6611 - val_accuracy: 0.6286\n",
            "Epoch 242/500\n",
            "7/7 [==============================] - 0s 7ms/step - loss: 0.6450 - accuracy: 0.6539 - val_loss: 0.6611 - val_accuracy: 0.6286\n",
            "Epoch 243/500\n",
            "7/7 [==============================] - 0s 7ms/step - loss: 0.6450 - accuracy: 0.6539 - val_loss: 0.6611 - val_accuracy: 0.6286\n",
            "Epoch 244/500\n",
            "7/7 [==============================] - 0s 8ms/step - loss: 0.6450 - accuracy: 0.6539 - val_loss: 0.6611 - val_accuracy: 0.6286\n",
            "Epoch 245/500\n",
            "7/7 [==============================] - 0s 7ms/step - loss: 0.6450 - accuracy: 0.6539 - val_loss: 0.6611 - val_accuracy: 0.6286\n",
            "Epoch 246/500\n",
            "7/7 [==============================] - 0s 8ms/step - loss: 0.6450 - accuracy: 0.6539 - val_loss: 0.6611 - val_accuracy: 0.6286\n",
            "Epoch 247/500\n",
            "7/7 [==============================] - 0s 7ms/step - loss: 0.6450 - accuracy: 0.6539 - val_loss: 0.6611 - val_accuracy: 0.6286\n",
            "Epoch 248/500\n",
            "7/7 [==============================] - 0s 7ms/step - loss: 0.6450 - accuracy: 0.6539 - val_loss: 0.6611 - val_accuracy: 0.6286\n",
            "Epoch 249/500\n",
            "7/7 [==============================] - 0s 9ms/step - loss: 0.6450 - accuracy: 0.6539 - val_loss: 0.6611 - val_accuracy: 0.6286\n",
            "Epoch 250/500\n",
            "7/7 [==============================] - 0s 8ms/step - loss: 0.6450 - accuracy: 0.6539 - val_loss: 0.6611 - val_accuracy: 0.6286\n",
            "Epoch 251/500\n",
            "7/7 [==============================] - 0s 7ms/step - loss: 0.6450 - accuracy: 0.6539 - val_loss: 0.6611 - val_accuracy: 0.6286\n",
            "Epoch 252/500\n",
            "7/7 [==============================] - 0s 8ms/step - loss: 0.6450 - accuracy: 0.6539 - val_loss: 0.6611 - val_accuracy: 0.6286\n",
            "Epoch 253/500\n",
            "7/7 [==============================] - 0s 7ms/step - loss: 0.6450 - accuracy: 0.6539 - val_loss: 0.6611 - val_accuracy: 0.6286\n",
            "Epoch 254/500\n",
            "7/7 [==============================] - 0s 7ms/step - loss: 0.6450 - accuracy: 0.6539 - val_loss: 0.6611 - val_accuracy: 0.6286\n",
            "Epoch 255/500\n",
            "7/7 [==============================] - 0s 8ms/step - loss: 0.6450 - accuracy: 0.6539 - val_loss: 0.6611 - val_accuracy: 0.6286\n",
            "Epoch 256/500\n",
            "7/7 [==============================] - 0s 7ms/step - loss: 0.6450 - accuracy: 0.6539 - val_loss: 0.6611 - val_accuracy: 0.6286\n",
            "Epoch 257/500\n",
            "7/7 [==============================] - 0s 7ms/step - loss: 0.6450 - accuracy: 0.6539 - val_loss: 0.6611 - val_accuracy: 0.6286\n",
            "Epoch 258/500\n",
            "7/7 [==============================] - 0s 8ms/step - loss: 0.6450 - accuracy: 0.6539 - val_loss: 0.6611 - val_accuracy: 0.6286\n",
            "Epoch 259/500\n",
            "7/7 [==============================] - 0s 7ms/step - loss: 0.6450 - accuracy: 0.6539 - val_loss: 0.6611 - val_accuracy: 0.6286\n",
            "Epoch 260/500\n",
            "7/7 [==============================] - 0s 8ms/step - loss: 0.6450 - accuracy: 0.6539 - val_loss: 0.6611 - val_accuracy: 0.6286\n",
            "Epoch 261/500\n",
            "7/7 [==============================] - 0s 8ms/step - loss: 0.6450 - accuracy: 0.6539 - val_loss: 0.6611 - val_accuracy: 0.6286\n",
            "Epoch 262/500\n",
            "7/7 [==============================] - 0s 7ms/step - loss: 0.6450 - accuracy: 0.6539 - val_loss: 0.6611 - val_accuracy: 0.6286\n",
            "Epoch 263/500\n",
            "7/7 [==============================] - 0s 7ms/step - loss: 0.6450 - accuracy: 0.6539 - val_loss: 0.6610 - val_accuracy: 0.6286\n",
            "Epoch 264/500\n",
            "7/7 [==============================] - 0s 7ms/step - loss: 0.6450 - accuracy: 0.6539 - val_loss: 0.6611 - val_accuracy: 0.6286\n",
            "Epoch 265/500\n",
            "7/7 [==============================] - 0s 8ms/step - loss: 0.6450 - accuracy: 0.6539 - val_loss: 0.6611 - val_accuracy: 0.6286\n",
            "Epoch 266/500\n",
            "7/7 [==============================] - 0s 7ms/step - loss: 0.6450 - accuracy: 0.6539 - val_loss: 0.6610 - val_accuracy: 0.6286\n",
            "Epoch 267/500\n",
            "7/7 [==============================] - 0s 10ms/step - loss: 0.6450 - accuracy: 0.6539 - val_loss: 0.6610 - val_accuracy: 0.6286\n",
            "Epoch 268/500\n",
            "7/7 [==============================] - 0s 7ms/step - loss: 0.6450 - accuracy: 0.6539 - val_loss: 0.6610 - val_accuracy: 0.6286\n",
            "Epoch 269/500\n",
            "7/7 [==============================] - 0s 7ms/step - loss: 0.6450 - accuracy: 0.6539 - val_loss: 0.6610 - val_accuracy: 0.6286\n",
            "Epoch 270/500\n",
            "7/7 [==============================] - 0s 8ms/step - loss: 0.6450 - accuracy: 0.6539 - val_loss: 0.6610 - val_accuracy: 0.6286\n",
            "Epoch 271/500\n",
            "7/7 [==============================] - 0s 8ms/step - loss: 0.6450 - accuracy: 0.6539 - val_loss: 0.6610 - val_accuracy: 0.6286\n",
            "Epoch 272/500\n",
            "7/7 [==============================] - 0s 8ms/step - loss: 0.6450 - accuracy: 0.6539 - val_loss: 0.6610 - val_accuracy: 0.6286\n",
            "Epoch 273/500\n",
            "7/7 [==============================] - 0s 9ms/step - loss: 0.6450 - accuracy: 0.6539 - val_loss: 0.6610 - val_accuracy: 0.6286\n",
            "Epoch 274/500\n",
            "7/7 [==============================] - 0s 8ms/step - loss: 0.6450 - accuracy: 0.6539 - val_loss: 0.6611 - val_accuracy: 0.6286\n",
            "Epoch 275/500\n",
            "7/7 [==============================] - 0s 8ms/step - loss: 0.6450 - accuracy: 0.6539 - val_loss: 0.6611 - val_accuracy: 0.6286\n",
            "Epoch 276/500\n",
            "7/7 [==============================] - 0s 8ms/step - loss: 0.6450 - accuracy: 0.6539 - val_loss: 0.6611 - val_accuracy: 0.6286\n",
            "Epoch 277/500\n",
            "7/7 [==============================] - 0s 7ms/step - loss: 0.6450 - accuracy: 0.6539 - val_loss: 0.6611 - val_accuracy: 0.6286\n",
            "Epoch 278/500\n",
            "7/7 [==============================] - 0s 7ms/step - loss: 0.6450 - accuracy: 0.6539 - val_loss: 0.6611 - val_accuracy: 0.6286\n",
            "Epoch 279/500\n",
            "7/7 [==============================] - 0s 8ms/step - loss: 0.6450 - accuracy: 0.6539 - val_loss: 0.6611 - val_accuracy: 0.6286\n",
            "Epoch 280/500\n",
            "7/7 [==============================] - 0s 7ms/step - loss: 0.6450 - accuracy: 0.6539 - val_loss: 0.6611 - val_accuracy: 0.6286\n",
            "Epoch 281/500\n",
            "7/7 [==============================] - 0s 8ms/step - loss: 0.6450 - accuracy: 0.6539 - val_loss: 0.6611 - val_accuracy: 0.6286\n",
            "Epoch 282/500\n",
            "7/7 [==============================] - 0s 8ms/step - loss: 0.6450 - accuracy: 0.6539 - val_loss: 0.6611 - val_accuracy: 0.6286\n",
            "Epoch 283/500\n",
            "7/7 [==============================] - 0s 8ms/step - loss: 0.6450 - accuracy: 0.6539 - val_loss: 0.6611 - val_accuracy: 0.6286\n",
            "Epoch 284/500\n",
            "7/7 [==============================] - 0s 8ms/step - loss: 0.6450 - accuracy: 0.6539 - val_loss: 0.6611 - val_accuracy: 0.6286\n",
            "Epoch 285/500\n",
            "7/7 [==============================] - 0s 8ms/step - loss: 0.6450 - accuracy: 0.6539 - val_loss: 0.6611 - val_accuracy: 0.6286\n",
            "Epoch 286/500\n",
            "7/7 [==============================] - 0s 8ms/step - loss: 0.6450 - accuracy: 0.6539 - val_loss: 0.6611 - val_accuracy: 0.6286\n",
            "Epoch 287/500\n",
            "7/7 [==============================] - 0s 7ms/step - loss: 0.6450 - accuracy: 0.6539 - val_loss: 0.6611 - val_accuracy: 0.6286\n",
            "Epoch 288/500\n",
            "7/7 [==============================] - 0s 8ms/step - loss: 0.6450 - accuracy: 0.6539 - val_loss: 0.6611 - val_accuracy: 0.6286\n",
            "Epoch 289/500\n",
            "7/7 [==============================] - 0s 8ms/step - loss: 0.6450 - accuracy: 0.6539 - val_loss: 0.6611 - val_accuracy: 0.6286\n",
            "Epoch 290/500\n",
            "7/7 [==============================] - 0s 7ms/step - loss: 0.6450 - accuracy: 0.6539 - val_loss: 0.6611 - val_accuracy: 0.6286\n",
            "Epoch 291/500\n",
            "7/7 [==============================] - 0s 8ms/step - loss: 0.6450 - accuracy: 0.6539 - val_loss: 0.6611 - val_accuracy: 0.6286\n",
            "Epoch 292/500\n",
            "7/7 [==============================] - 0s 7ms/step - loss: 0.6450 - accuracy: 0.6539 - val_loss: 0.6611 - val_accuracy: 0.6286\n",
            "Epoch 293/500\n",
            "7/7 [==============================] - 0s 8ms/step - loss: 0.6450 - accuracy: 0.6539 - val_loss: 0.6611 - val_accuracy: 0.6286\n",
            "Epoch 294/500\n",
            "7/7 [==============================] - 0s 8ms/step - loss: 0.6450 - accuracy: 0.6539 - val_loss: 0.6611 - val_accuracy: 0.6286\n",
            "Epoch 295/500\n",
            "7/7 [==============================] - 0s 7ms/step - loss: 0.6450 - accuracy: 0.6539 - val_loss: 0.6612 - val_accuracy: 0.6286\n",
            "Epoch 296/500\n",
            "7/7 [==============================] - 0s 8ms/step - loss: 0.6450 - accuracy: 0.6539 - val_loss: 0.6612 - val_accuracy: 0.6286\n",
            "Epoch 297/500\n",
            "7/7 [==============================] - 0s 8ms/step - loss: 0.6450 - accuracy: 0.6539 - val_loss: 0.6611 - val_accuracy: 0.6286\n",
            "Epoch 298/500\n",
            "7/7 [==============================] - 0s 8ms/step - loss: 0.6450 - accuracy: 0.6539 - val_loss: 0.6612 - val_accuracy: 0.6286\n",
            "Epoch 299/500\n",
            "7/7 [==============================] - 0s 8ms/step - loss: 0.6450 - accuracy: 0.6539 - val_loss: 0.6611 - val_accuracy: 0.6286\n",
            "Epoch 300/500\n",
            "7/7 [==============================] - 0s 8ms/step - loss: 0.6450 - accuracy: 0.6539 - val_loss: 0.6611 - val_accuracy: 0.6286\n",
            "Epoch 301/500\n",
            "7/7 [==============================] - 0s 8ms/step - loss: 0.6450 - accuracy: 0.6539 - val_loss: 0.6611 - val_accuracy: 0.6286\n",
            "Epoch 302/500\n",
            "7/7 [==============================] - 0s 8ms/step - loss: 0.6450 - accuracy: 0.6539 - val_loss: 0.6611 - val_accuracy: 0.6286\n",
            "Epoch 303/500\n",
            "7/7 [==============================] - 0s 8ms/step - loss: 0.6450 - accuracy: 0.6539 - val_loss: 0.6611 - val_accuracy: 0.6286\n",
            "Epoch 304/500\n",
            "7/7 [==============================] - 0s 8ms/step - loss: 0.6450 - accuracy: 0.6539 - val_loss: 0.6611 - val_accuracy: 0.6286\n",
            "Epoch 305/500\n",
            "7/7 [==============================] - 0s 8ms/step - loss: 0.6450 - accuracy: 0.6539 - val_loss: 0.6611 - val_accuracy: 0.6286\n",
            "Epoch 306/500\n",
            "7/7 [==============================] - 0s 7ms/step - loss: 0.6450 - accuracy: 0.6539 - val_loss: 0.6611 - val_accuracy: 0.6286\n",
            "Epoch 307/500\n",
            "7/7 [==============================] - 0s 8ms/step - loss: 0.6450 - accuracy: 0.6539 - val_loss: 0.6611 - val_accuracy: 0.6286\n",
            "Epoch 308/500\n",
            "7/7 [==============================] - 0s 8ms/step - loss: 0.6450 - accuracy: 0.6539 - val_loss: 0.6611 - val_accuracy: 0.6286\n",
            "Epoch 309/500\n",
            "7/7 [==============================] - 0s 8ms/step - loss: 0.6450 - accuracy: 0.6539 - val_loss: 0.6612 - val_accuracy: 0.6286\n",
            "Epoch 310/500\n",
            "7/7 [==============================] - 0s 7ms/step - loss: 0.6450 - accuracy: 0.6539 - val_loss: 0.6612 - val_accuracy: 0.6286\n",
            "Epoch 311/500\n",
            "7/7 [==============================] - 0s 7ms/step - loss: 0.6450 - accuracy: 0.6539 - val_loss: 0.6612 - val_accuracy: 0.6286\n",
            "Epoch 312/500\n",
            "7/7 [==============================] - 0s 7ms/step - loss: 0.6450 - accuracy: 0.6539 - val_loss: 0.6612 - val_accuracy: 0.6286\n",
            "Epoch 313/500\n",
            "7/7 [==============================] - 0s 8ms/step - loss: 0.6450 - accuracy: 0.6539 - val_loss: 0.6612 - val_accuracy: 0.6286\n",
            "Epoch 314/500\n",
            "7/7 [==============================] - 0s 7ms/step - loss: 0.6450 - accuracy: 0.6539 - val_loss: 0.6612 - val_accuracy: 0.6286\n",
            "Epoch 315/500\n",
            "7/7 [==============================] - 0s 8ms/step - loss: 0.6450 - accuracy: 0.6539 - val_loss: 0.6612 - val_accuracy: 0.6286\n",
            "Epoch 316/500\n",
            "7/7 [==============================] - 0s 8ms/step - loss: 0.6450 - accuracy: 0.6539 - val_loss: 0.6611 - val_accuracy: 0.6286\n",
            "Epoch 317/500\n",
            "7/7 [==============================] - 0s 8ms/step - loss: 0.6450 - accuracy: 0.6539 - val_loss: 0.6612 - val_accuracy: 0.6286\n",
            "Epoch 318/500\n",
            "7/7 [==============================] - 0s 7ms/step - loss: 0.6450 - accuracy: 0.6539 - val_loss: 0.6611 - val_accuracy: 0.6286\n",
            "Epoch 319/500\n",
            "7/7 [==============================] - 0s 7ms/step - loss: 0.6450 - accuracy: 0.6539 - val_loss: 0.6611 - val_accuracy: 0.6286\n",
            "Epoch 320/500\n",
            "7/7 [==============================] - 0s 9ms/step - loss: 0.6450 - accuracy: 0.6539 - val_loss: 0.6611 - val_accuracy: 0.6286\n",
            "Epoch 321/500\n",
            "7/7 [==============================] - 0s 8ms/step - loss: 0.6450 - accuracy: 0.6539 - val_loss: 0.6611 - val_accuracy: 0.6286\n",
            "Epoch 322/500\n",
            "7/7 [==============================] - 0s 8ms/step - loss: 0.6450 - accuracy: 0.6539 - val_loss: 0.6611 - val_accuracy: 0.6286\n",
            "Epoch 323/500\n",
            "7/7 [==============================] - 0s 8ms/step - loss: 0.6450 - accuracy: 0.6539 - val_loss: 0.6612 - val_accuracy: 0.6286\n",
            "Epoch 324/500\n",
            "7/7 [==============================] - 0s 7ms/step - loss: 0.6450 - accuracy: 0.6539 - val_loss: 0.6611 - val_accuracy: 0.6286\n",
            "Epoch 325/500\n",
            "7/7 [==============================] - 0s 8ms/step - loss: 0.6450 - accuracy: 0.6539 - val_loss: 0.6612 - val_accuracy: 0.6286\n",
            "Epoch 326/500\n",
            "7/7 [==============================] - 0s 7ms/step - loss: 0.6450 - accuracy: 0.6539 - val_loss: 0.6611 - val_accuracy: 0.6286\n",
            "Epoch 327/500\n",
            "7/7 [==============================] - 0s 8ms/step - loss: 0.6450 - accuracy: 0.6539 - val_loss: 0.6611 - val_accuracy: 0.6286\n",
            "Epoch 328/500\n",
            "7/7 [==============================] - 0s 8ms/step - loss: 0.6450 - accuracy: 0.6539 - val_loss: 0.6611 - val_accuracy: 0.6286\n",
            "Epoch 329/500\n",
            "7/7 [==============================] - 0s 7ms/step - loss: 0.6450 - accuracy: 0.6539 - val_loss: 0.6611 - val_accuracy: 0.6286\n",
            "Epoch 330/500\n",
            "7/7 [==============================] - 0s 8ms/step - loss: 0.6450 - accuracy: 0.6539 - val_loss: 0.6611 - val_accuracy: 0.6286\n",
            "Epoch 331/500\n",
            "7/7 [==============================] - 0s 8ms/step - loss: 0.6450 - accuracy: 0.6539 - val_loss: 0.6611 - val_accuracy: 0.6286\n",
            "Epoch 332/500\n",
            "7/7 [==============================] - 0s 7ms/step - loss: 0.6450 - accuracy: 0.6539 - val_loss: 0.6611 - val_accuracy: 0.6286\n",
            "Epoch 333/500\n",
            "7/7 [==============================] - 0s 8ms/step - loss: 0.6450 - accuracy: 0.6539 - val_loss: 0.6611 - val_accuracy: 0.6286\n",
            "Epoch 334/500\n",
            "7/7 [==============================] - 0s 8ms/step - loss: 0.6450 - accuracy: 0.6539 - val_loss: 0.6611 - val_accuracy: 0.6286\n",
            "Epoch 335/500\n",
            "7/7 [==============================] - 0s 9ms/step - loss: 0.6450 - accuracy: 0.6539 - val_loss: 0.6611 - val_accuracy: 0.6286\n",
            "Epoch 336/500\n",
            "7/7 [==============================] - 0s 8ms/step - loss: 0.6450 - accuracy: 0.6539 - val_loss: 0.6611 - val_accuracy: 0.6286\n",
            "Epoch 337/500\n",
            "7/7 [==============================] - 0s 7ms/step - loss: 0.6450 - accuracy: 0.6539 - val_loss: 0.6611 - val_accuracy: 0.6286\n",
            "Epoch 338/500\n",
            "7/7 [==============================] - 0s 9ms/step - loss: 0.6450 - accuracy: 0.6539 - val_loss: 0.6611 - val_accuracy: 0.6286\n",
            "Epoch 339/500\n",
            "7/7 [==============================] - 0s 8ms/step - loss: 0.6450 - accuracy: 0.6539 - val_loss: 0.6611 - val_accuracy: 0.6286\n",
            "Epoch 340/500\n",
            "7/7 [==============================] - 0s 8ms/step - loss: 0.6450 - accuracy: 0.6539 - val_loss: 0.6611 - val_accuracy: 0.6286\n",
            "Epoch 341/500\n",
            "7/7 [==============================] - 0s 8ms/step - loss: 0.6450 - accuracy: 0.6539 - val_loss: 0.6611 - val_accuracy: 0.6286\n",
            "Epoch 342/500\n",
            "7/7 [==============================] - 0s 8ms/step - loss: 0.6450 - accuracy: 0.6539 - val_loss: 0.6611 - val_accuracy: 0.6286\n",
            "Epoch 343/500\n",
            "7/7 [==============================] - 0s 8ms/step - loss: 0.6450 - accuracy: 0.6539 - val_loss: 0.6611 - val_accuracy: 0.6286\n",
            "Epoch 344/500\n",
            "7/7 [==============================] - 0s 8ms/step - loss: 0.6450 - accuracy: 0.6539 - val_loss: 0.6611 - val_accuracy: 0.6286\n",
            "Epoch 345/500\n",
            "7/7 [==============================] - 0s 8ms/step - loss: 0.6450 - accuracy: 0.6539 - val_loss: 0.6611 - val_accuracy: 0.6286\n",
            "Epoch 346/500\n",
            "7/7 [==============================] - 0s 8ms/step - loss: 0.6450 - accuracy: 0.6539 - val_loss: 0.6611 - val_accuracy: 0.6286\n",
            "Epoch 347/500\n",
            "7/7 [==============================] - 0s 8ms/step - loss: 0.6450 - accuracy: 0.6539 - val_loss: 0.6611 - val_accuracy: 0.6286\n",
            "Epoch 348/500\n",
            "7/7 [==============================] - 0s 8ms/step - loss: 0.6450 - accuracy: 0.6539 - val_loss: 0.6611 - val_accuracy: 0.6286\n",
            "Epoch 349/500\n",
            "7/7 [==============================] - 0s 8ms/step - loss: 0.6450 - accuracy: 0.6539 - val_loss: 0.6611 - val_accuracy: 0.6286\n",
            "Epoch 350/500\n",
            "7/7 [==============================] - 0s 8ms/step - loss: 0.6450 - accuracy: 0.6539 - val_loss: 0.6611 - val_accuracy: 0.6286\n",
            "Epoch 351/500\n",
            "7/7 [==============================] - 0s 8ms/step - loss: 0.6450 - accuracy: 0.6539 - val_loss: 0.6611 - val_accuracy: 0.6286\n",
            "Epoch 352/500\n",
            "7/7 [==============================] - 0s 7ms/step - loss: 0.6450 - accuracy: 0.6539 - val_loss: 0.6611 - val_accuracy: 0.6286\n",
            "Epoch 353/500\n",
            "7/7 [==============================] - 0s 8ms/step - loss: 0.6450 - accuracy: 0.6539 - val_loss: 0.6611 - val_accuracy: 0.6286\n",
            "Epoch 354/500\n",
            "7/7 [==============================] - 0s 8ms/step - loss: 0.6450 - accuracy: 0.6539 - val_loss: 0.6611 - val_accuracy: 0.6286\n",
            "Epoch 355/500\n",
            "7/7 [==============================] - 0s 9ms/step - loss: 0.6450 - accuracy: 0.6539 - val_loss: 0.6611 - val_accuracy: 0.6286\n",
            "Epoch 356/500\n",
            "7/7 [==============================] - 0s 8ms/step - loss: 0.6450 - accuracy: 0.6539 - val_loss: 0.6611 - val_accuracy: 0.6286\n",
            "Epoch 357/500\n",
            "7/7 [==============================] - 0s 8ms/step - loss: 0.6450 - accuracy: 0.6539 - val_loss: 0.6611 - val_accuracy: 0.6286\n",
            "Epoch 358/500\n",
            "7/7 [==============================] - 0s 8ms/step - loss: 0.6450 - accuracy: 0.6539 - val_loss: 0.6611 - val_accuracy: 0.6286\n",
            "Epoch 359/500\n",
            "7/7 [==============================] - 0s 8ms/step - loss: 0.6450 - accuracy: 0.6539 - val_loss: 0.6611 - val_accuracy: 0.6286\n",
            "Epoch 360/500\n",
            "7/7 [==============================] - 0s 7ms/step - loss: 0.6450 - accuracy: 0.6539 - val_loss: 0.6611 - val_accuracy: 0.6286\n",
            "Epoch 361/500\n",
            "7/7 [==============================] - 0s 8ms/step - loss: 0.6450 - accuracy: 0.6539 - val_loss: 0.6611 - val_accuracy: 0.6286\n",
            "Epoch 362/500\n",
            "7/7 [==============================] - 0s 8ms/step - loss: 0.6450 - accuracy: 0.6539 - val_loss: 0.6611 - val_accuracy: 0.6286\n",
            "Epoch 363/500\n",
            "7/7 [==============================] - 0s 7ms/step - loss: 0.6450 - accuracy: 0.6539 - val_loss: 0.6611 - val_accuracy: 0.6286\n",
            "Epoch 364/500\n",
            "7/7 [==============================] - 0s 8ms/step - loss: 0.6450 - accuracy: 0.6539 - val_loss: 0.6611 - val_accuracy: 0.6286\n",
            "Epoch 365/500\n",
            "7/7 [==============================] - 0s 8ms/step - loss: 0.6450 - accuracy: 0.6539 - val_loss: 0.6611 - val_accuracy: 0.6286\n",
            "Epoch 366/500\n",
            "7/7 [==============================] - 0s 8ms/step - loss: 0.6450 - accuracy: 0.6539 - val_loss: 0.6611 - val_accuracy: 0.6286\n",
            "Epoch 367/500\n",
            "7/7 [==============================] - 0s 8ms/step - loss: 0.6450 - accuracy: 0.6539 - val_loss: 0.6611 - val_accuracy: 0.6286\n",
            "Epoch 368/500\n",
            "7/7 [==============================] - 0s 8ms/step - loss: 0.6450 - accuracy: 0.6539 - val_loss: 0.6611 - val_accuracy: 0.6286\n",
            "Epoch 369/500\n",
            "7/7 [==============================] - 0s 8ms/step - loss: 0.6450 - accuracy: 0.6539 - val_loss: 0.6611 - val_accuracy: 0.6286\n",
            "Epoch 370/500\n",
            "7/7 [==============================] - 0s 8ms/step - loss: 0.6450 - accuracy: 0.6539 - val_loss: 0.6611 - val_accuracy: 0.6286\n",
            "Epoch 371/500\n",
            "7/7 [==============================] - 0s 8ms/step - loss: 0.6450 - accuracy: 0.6539 - val_loss: 0.6611 - val_accuracy: 0.6286\n",
            "Epoch 372/500\n",
            "7/7 [==============================] - 0s 8ms/step - loss: 0.6450 - accuracy: 0.6539 - val_loss: 0.6612 - val_accuracy: 0.6286\n",
            "Epoch 373/500\n",
            "7/7 [==============================] - 0s 9ms/step - loss: 0.6450 - accuracy: 0.6539 - val_loss: 0.6611 - val_accuracy: 0.6286\n",
            "Epoch 374/500\n",
            "7/7 [==============================] - 0s 8ms/step - loss: 0.6450 - accuracy: 0.6539 - val_loss: 0.6612 - val_accuracy: 0.6286\n",
            "Epoch 375/500\n",
            "7/7 [==============================] - 0s 8ms/step - loss: 0.6450 - accuracy: 0.6539 - val_loss: 0.6611 - val_accuracy: 0.6286\n",
            "Epoch 376/500\n",
            "7/7 [==============================] - 0s 8ms/step - loss: 0.6450 - accuracy: 0.6539 - val_loss: 0.6611 - val_accuracy: 0.6286\n",
            "Epoch 377/500\n",
            "7/7 [==============================] - 0s 8ms/step - loss: 0.6450 - accuracy: 0.6539 - val_loss: 0.6611 - val_accuracy: 0.6286\n",
            "Epoch 378/500\n",
            "7/7 [==============================] - 0s 8ms/step - loss: 0.6450 - accuracy: 0.6539 - val_loss: 0.6611 - val_accuracy: 0.6286\n",
            "Epoch 379/500\n",
            "7/7 [==============================] - 0s 8ms/step - loss: 0.6450 - accuracy: 0.6539 - val_loss: 0.6611 - val_accuracy: 0.6286\n",
            "Epoch 380/500\n",
            "7/7 [==============================] - 0s 8ms/step - loss: 0.6450 - accuracy: 0.6539 - val_loss: 0.6611 - val_accuracy: 0.6286\n",
            "Epoch 381/500\n",
            "7/7 [==============================] - 0s 8ms/step - loss: 0.6450 - accuracy: 0.6539 - val_loss: 0.6611 - val_accuracy: 0.6286\n",
            "Epoch 382/500\n",
            "7/7 [==============================] - 0s 8ms/step - loss: 0.6450 - accuracy: 0.6539 - val_loss: 0.6611 - val_accuracy: 0.6286\n",
            "Epoch 383/500\n",
            "7/7 [==============================] - 0s 8ms/step - loss: 0.6450 - accuracy: 0.6539 - val_loss: 0.6610 - val_accuracy: 0.6286\n",
            "Epoch 384/500\n",
            "7/7 [==============================] - 0s 8ms/step - loss: 0.6450 - accuracy: 0.6539 - val_loss: 0.6610 - val_accuracy: 0.6286\n",
            "Epoch 385/500\n",
            "7/7 [==============================] - 0s 7ms/step - loss: 0.6450 - accuracy: 0.6539 - val_loss: 0.6610 - val_accuracy: 0.6286\n",
            "Epoch 386/500\n",
            "7/7 [==============================] - 0s 8ms/step - loss: 0.6450 - accuracy: 0.6539 - val_loss: 0.6610 - val_accuracy: 0.6286\n",
            "Epoch 387/500\n",
            "7/7 [==============================] - 0s 8ms/step - loss: 0.6450 - accuracy: 0.6539 - val_loss: 0.6610 - val_accuracy: 0.6286\n",
            "Epoch 388/500\n",
            "7/7 [==============================] - 0s 8ms/step - loss: 0.6450 - accuracy: 0.6539 - val_loss: 0.6610 - val_accuracy: 0.6286\n",
            "Epoch 389/500\n",
            "7/7 [==============================] - 0s 9ms/step - loss: 0.6450 - accuracy: 0.6539 - val_loss: 0.6610 - val_accuracy: 0.6286\n",
            "Epoch 390/500\n",
            "7/7 [==============================] - 0s 9ms/step - loss: 0.6450 - accuracy: 0.6539 - val_loss: 0.6610 - val_accuracy: 0.6286\n",
            "Epoch 391/500\n",
            "7/7 [==============================] - 0s 8ms/step - loss: 0.6450 - accuracy: 0.6539 - val_loss: 0.6611 - val_accuracy: 0.6286\n",
            "Epoch 392/500\n",
            "7/7 [==============================] - 0s 8ms/step - loss: 0.6450 - accuracy: 0.6539 - val_loss: 0.6611 - val_accuracy: 0.6286\n",
            "Epoch 393/500\n",
            "7/7 [==============================] - 0s 8ms/step - loss: 0.6450 - accuracy: 0.6539 - val_loss: 0.6611 - val_accuracy: 0.6286\n",
            "Epoch 394/500\n",
            "7/7 [==============================] - 0s 7ms/step - loss: 0.6450 - accuracy: 0.6539 - val_loss: 0.6611 - val_accuracy: 0.6286\n",
            "Epoch 395/500\n",
            "7/7 [==============================] - 0s 8ms/step - loss: 0.6450 - accuracy: 0.6539 - val_loss: 0.6611 - val_accuracy: 0.6286\n",
            "Epoch 396/500\n",
            "7/7 [==============================] - 0s 7ms/step - loss: 0.6450 - accuracy: 0.6539 - val_loss: 0.6611 - val_accuracy: 0.6286\n",
            "Epoch 397/500\n",
            "7/7 [==============================] - 0s 9ms/step - loss: 0.6450 - accuracy: 0.6539 - val_loss: 0.6611 - val_accuracy: 0.6286\n",
            "Epoch 398/500\n",
            "7/7 [==============================] - 0s 8ms/step - loss: 0.6450 - accuracy: 0.6539 - val_loss: 0.6611 - val_accuracy: 0.6286\n",
            "Epoch 399/500\n",
            "7/7 [==============================] - 0s 8ms/step - loss: 0.6450 - accuracy: 0.6539 - val_loss: 0.6611 - val_accuracy: 0.6286\n",
            "Epoch 400/500\n",
            "7/7 [==============================] - 0s 8ms/step - loss: 0.6450 - accuracy: 0.6539 - val_loss: 0.6611 - val_accuracy: 0.6286\n",
            "Epoch 401/500\n",
            "7/7 [==============================] - 0s 10ms/step - loss: 0.6450 - accuracy: 0.6539 - val_loss: 0.6611 - val_accuracy: 0.6286\n",
            "Epoch 402/500\n",
            "7/7 [==============================] - 0s 7ms/step - loss: 0.6450 - accuracy: 0.6539 - val_loss: 0.6611 - val_accuracy: 0.6286\n",
            "Epoch 403/500\n",
            "7/7 [==============================] - 0s 8ms/step - loss: 0.6450 - accuracy: 0.6539 - val_loss: 0.6611 - val_accuracy: 0.6286\n",
            "Epoch 404/500\n",
            "7/7 [==============================] - 0s 8ms/step - loss: 0.6450 - accuracy: 0.6539 - val_loss: 0.6611 - val_accuracy: 0.6286\n",
            "Epoch 405/500\n",
            "7/7 [==============================] - 0s 9ms/step - loss: 0.6450 - accuracy: 0.6539 - val_loss: 0.6611 - val_accuracy: 0.6286\n",
            "Epoch 406/500\n",
            "7/7 [==============================] - 0s 8ms/step - loss: 0.6450 - accuracy: 0.6539 - val_loss: 0.6611 - val_accuracy: 0.6286\n",
            "Epoch 407/500\n",
            "7/7 [==============================] - 0s 9ms/step - loss: 0.6450 - accuracy: 0.6539 - val_loss: 0.6611 - val_accuracy: 0.6286\n",
            "Epoch 408/500\n",
            "7/7 [==============================] - 0s 8ms/step - loss: 0.6450 - accuracy: 0.6539 - val_loss: 0.6611 - val_accuracy: 0.6286\n",
            "Epoch 409/500\n",
            "7/7 [==============================] - 0s 8ms/step - loss: 0.6450 - accuracy: 0.6539 - val_loss: 0.6611 - val_accuracy: 0.6286\n",
            "Epoch 410/500\n",
            "7/7 [==============================] - 0s 8ms/step - loss: 0.6450 - accuracy: 0.6539 - val_loss: 0.6611 - val_accuracy: 0.6286\n",
            "Epoch 411/500\n",
            "7/7 [==============================] - 0s 8ms/step - loss: 0.6450 - accuracy: 0.6539 - val_loss: 0.6611 - val_accuracy: 0.6286\n",
            "Epoch 412/500\n",
            "7/7 [==============================] - 0s 8ms/step - loss: 0.6450 - accuracy: 0.6539 - val_loss: 0.6611 - val_accuracy: 0.6286\n",
            "Epoch 413/500\n",
            "7/7 [==============================] - 0s 8ms/step - loss: 0.6450 - accuracy: 0.6539 - val_loss: 0.6611 - val_accuracy: 0.6286\n",
            "Epoch 414/500\n",
            "7/7 [==============================] - 0s 8ms/step - loss: 0.6450 - accuracy: 0.6539 - val_loss: 0.6610 - val_accuracy: 0.6286\n",
            "Epoch 415/500\n",
            "7/7 [==============================] - 0s 8ms/step - loss: 0.6450 - accuracy: 0.6539 - val_loss: 0.6610 - val_accuracy: 0.6286\n",
            "Epoch 416/500\n",
            "7/7 [==============================] - 0s 8ms/step - loss: 0.6450 - accuracy: 0.6539 - val_loss: 0.6610 - val_accuracy: 0.6286\n",
            "Epoch 417/500\n",
            "7/7 [==============================] - 0s 8ms/step - loss: 0.6450 - accuracy: 0.6539 - val_loss: 0.6610 - val_accuracy: 0.6286\n",
            "Epoch 418/500\n",
            "7/7 [==============================] - 0s 8ms/step - loss: 0.6450 - accuracy: 0.6539 - val_loss: 0.6611 - val_accuracy: 0.6286\n",
            "Epoch 419/500\n",
            "7/7 [==============================] - 0s 8ms/step - loss: 0.6450 - accuracy: 0.6539 - val_loss: 0.6610 - val_accuracy: 0.6286\n",
            "Epoch 420/500\n",
            "7/7 [==============================] - 0s 8ms/step - loss: 0.6450 - accuracy: 0.6539 - val_loss: 0.6610 - val_accuracy: 0.6286\n",
            "Epoch 421/500\n",
            "7/7 [==============================] - 0s 8ms/step - loss: 0.6450 - accuracy: 0.6539 - val_loss: 0.6610 - val_accuracy: 0.6286\n",
            "Epoch 422/500\n",
            "7/7 [==============================] - 0s 8ms/step - loss: 0.6450 - accuracy: 0.6539 - val_loss: 0.6610 - val_accuracy: 0.6286\n",
            "Epoch 423/500\n",
            "7/7 [==============================] - 0s 8ms/step - loss: 0.6450 - accuracy: 0.6539 - val_loss: 0.6610 - val_accuracy: 0.6286\n",
            "Epoch 424/500\n",
            "7/7 [==============================] - 0s 8ms/step - loss: 0.6450 - accuracy: 0.6539 - val_loss: 0.6610 - val_accuracy: 0.6286\n",
            "Epoch 425/500\n",
            "7/7 [==============================] - 0s 8ms/step - loss: 0.6450 - accuracy: 0.6539 - val_loss: 0.6610 - val_accuracy: 0.6286\n",
            "Epoch 426/500\n",
            "7/7 [==============================] - 0s 8ms/step - loss: 0.6450 - accuracy: 0.6539 - val_loss: 0.6610 - val_accuracy: 0.6286\n",
            "Epoch 427/500\n",
            "7/7 [==============================] - 0s 8ms/step - loss: 0.6450 - accuracy: 0.6539 - val_loss: 0.6611 - val_accuracy: 0.6286\n",
            "Epoch 428/500\n",
            "7/7 [==============================] - 0s 8ms/step - loss: 0.6450 - accuracy: 0.6539 - val_loss: 0.6611 - val_accuracy: 0.6286\n",
            "Epoch 429/500\n",
            "7/7 [==============================] - 0s 8ms/step - loss: 0.6450 - accuracy: 0.6539 - val_loss: 0.6611 - val_accuracy: 0.6286\n",
            "Epoch 430/500\n",
            "7/7 [==============================] - 0s 8ms/step - loss: 0.6450 - accuracy: 0.6539 - val_loss: 0.6611 - val_accuracy: 0.6286\n",
            "Epoch 431/500\n",
            "7/7 [==============================] - 0s 8ms/step - loss: 0.6450 - accuracy: 0.6539 - val_loss: 0.6611 - val_accuracy: 0.6286\n",
            "Epoch 432/500\n",
            "7/7 [==============================] - 0s 8ms/step - loss: 0.6450 - accuracy: 0.6539 - val_loss: 0.6611 - val_accuracy: 0.6286\n",
            "Epoch 433/500\n",
            "7/7 [==============================] - 0s 8ms/step - loss: 0.6450 - accuracy: 0.6539 - val_loss: 0.6611 - val_accuracy: 0.6286\n",
            "Epoch 434/500\n",
            "7/7 [==============================] - 0s 8ms/step - loss: 0.6450 - accuracy: 0.6539 - val_loss: 0.6611 - val_accuracy: 0.6286\n",
            "Epoch 435/500\n",
            "7/7 [==============================] - 0s 8ms/step - loss: 0.6450 - accuracy: 0.6539 - val_loss: 0.6611 - val_accuracy: 0.6286\n",
            "Epoch 436/500\n",
            "7/7 [==============================] - 0s 8ms/step - loss: 0.6450 - accuracy: 0.6539 - val_loss: 0.6611 - val_accuracy: 0.6286\n",
            "Epoch 437/500\n",
            "7/7 [==============================] - 0s 8ms/step - loss: 0.6450 - accuracy: 0.6539 - val_loss: 0.6611 - val_accuracy: 0.6286\n",
            "Epoch 438/500\n",
            "7/7 [==============================] - 0s 8ms/step - loss: 0.6450 - accuracy: 0.6539 - val_loss: 0.6611 - val_accuracy: 0.6286\n",
            "Epoch 439/500\n",
            "7/7 [==============================] - 0s 8ms/step - loss: 0.6450 - accuracy: 0.6539 - val_loss: 0.6611 - val_accuracy: 0.6286\n",
            "Epoch 440/500\n",
            "7/7 [==============================] - 0s 9ms/step - loss: 0.6450 - accuracy: 0.6539 - val_loss: 0.6611 - val_accuracy: 0.6286\n",
            "Epoch 441/500\n",
            "7/7 [==============================] - 0s 8ms/step - loss: 0.6450 - accuracy: 0.6539 - val_loss: 0.6611 - val_accuracy: 0.6286\n",
            "Epoch 442/500\n",
            "7/7 [==============================] - 0s 9ms/step - loss: 0.6450 - accuracy: 0.6539 - val_loss: 0.6611 - val_accuracy: 0.6286\n",
            "Epoch 443/500\n",
            "7/7 [==============================] - 0s 8ms/step - loss: 0.6450 - accuracy: 0.6539 - val_loss: 0.6611 - val_accuracy: 0.6286\n",
            "Epoch 444/500\n",
            "7/7 [==============================] - 0s 8ms/step - loss: 0.6450 - accuracy: 0.6539 - val_loss: 0.6611 - val_accuracy: 0.6286\n",
            "Epoch 445/500\n",
            "7/7 [==============================] - 0s 9ms/step - loss: 0.6450 - accuracy: 0.6539 - val_loss: 0.6611 - val_accuracy: 0.6286\n",
            "Epoch 446/500\n",
            "7/7 [==============================] - 0s 8ms/step - loss: 0.6450 - accuracy: 0.6539 - val_loss: 0.6611 - val_accuracy: 0.6286\n",
            "Epoch 447/500\n",
            "7/7 [==============================] - 0s 8ms/step - loss: 0.6450 - accuracy: 0.6539 - val_loss: 0.6611 - val_accuracy: 0.6286\n",
            "Epoch 448/500\n",
            "7/7 [==============================] - 0s 8ms/step - loss: 0.6450 - accuracy: 0.6539 - val_loss: 0.6611 - val_accuracy: 0.6286\n",
            "Epoch 449/500\n",
            "7/7 [==============================] - 0s 8ms/step - loss: 0.6450 - accuracy: 0.6539 - val_loss: 0.6611 - val_accuracy: 0.6286\n",
            "Epoch 450/500\n",
            "7/7 [==============================] - 0s 9ms/step - loss: 0.6450 - accuracy: 0.6539 - val_loss: 0.6611 - val_accuracy: 0.6286\n",
            "Epoch 451/500\n",
            "7/7 [==============================] - 0s 9ms/step - loss: 0.6450 - accuracy: 0.6539 - val_loss: 0.6611 - val_accuracy: 0.6286\n",
            "Epoch 452/500\n",
            "7/7 [==============================] - 0s 8ms/step - loss: 0.6450 - accuracy: 0.6539 - val_loss: 0.6611 - val_accuracy: 0.6286\n",
            "Epoch 453/500\n",
            "7/7 [==============================] - 0s 8ms/step - loss: 0.6450 - accuracy: 0.6539 - val_loss: 0.6611 - val_accuracy: 0.6286\n",
            "Epoch 454/500\n",
            "7/7 [==============================] - 0s 8ms/step - loss: 0.6450 - accuracy: 0.6539 - val_loss: 0.6611 - val_accuracy: 0.6286\n",
            "Epoch 455/500\n",
            "7/7 [==============================] - 0s 8ms/step - loss: 0.6450 - accuracy: 0.6539 - val_loss: 0.6611 - val_accuracy: 0.6286\n",
            "Epoch 456/500\n",
            "7/7 [==============================] - 0s 8ms/step - loss: 0.6450 - accuracy: 0.6539 - val_loss: 0.6611 - val_accuracy: 0.6286\n",
            "Epoch 457/500\n",
            "7/7 [==============================] - 0s 9ms/step - loss: 0.6450 - accuracy: 0.6539 - val_loss: 0.6611 - val_accuracy: 0.6286\n",
            "Epoch 458/500\n",
            "7/7 [==============================] - 0s 8ms/step - loss: 0.6450 - accuracy: 0.6539 - val_loss: 0.6611 - val_accuracy: 0.6286\n",
            "Epoch 459/500\n",
            "7/7 [==============================] - 0s 8ms/step - loss: 0.6450 - accuracy: 0.6539 - val_loss: 0.6611 - val_accuracy: 0.6286\n",
            "Epoch 460/500\n",
            "7/7 [==============================] - 0s 8ms/step - loss: 0.6450 - accuracy: 0.6539 - val_loss: 0.6611 - val_accuracy: 0.6286\n",
            "Epoch 461/500\n",
            "7/7 [==============================] - 0s 8ms/step - loss: 0.6450 - accuracy: 0.6539 - val_loss: 0.6611 - val_accuracy: 0.6286\n",
            "Epoch 462/500\n",
            "7/7 [==============================] - 0s 8ms/step - loss: 0.6450 - accuracy: 0.6539 - val_loss: 0.6611 - val_accuracy: 0.6286\n",
            "Epoch 463/500\n",
            "7/7 [==============================] - 0s 8ms/step - loss: 0.6450 - accuracy: 0.6539 - val_loss: 0.6611 - val_accuracy: 0.6286\n",
            "Epoch 464/500\n",
            "7/7 [==============================] - 0s 8ms/step - loss: 0.6450 - accuracy: 0.6539 - val_loss: 0.6611 - val_accuracy: 0.6286\n",
            "Epoch 465/500\n",
            "7/7 [==============================] - 0s 8ms/step - loss: 0.6450 - accuracy: 0.6539 - val_loss: 0.6611 - val_accuracy: 0.6286\n",
            "Epoch 466/500\n",
            "7/7 [==============================] - 0s 8ms/step - loss: 0.6450 - accuracy: 0.6539 - val_loss: 0.6611 - val_accuracy: 0.6286\n",
            "Epoch 467/500\n",
            "7/7 [==============================] - 0s 8ms/step - loss: 0.6450 - accuracy: 0.6539 - val_loss: 0.6611 - val_accuracy: 0.6286\n",
            "Epoch 468/500\n",
            "7/7 [==============================] - 0s 8ms/step - loss: 0.6450 - accuracy: 0.6539 - val_loss: 0.6611 - val_accuracy: 0.6286\n",
            "Epoch 469/500\n",
            "7/7 [==============================] - 0s 8ms/step - loss: 0.6450 - accuracy: 0.6539 - val_loss: 0.6611 - val_accuracy: 0.6286\n",
            "Epoch 470/500\n",
            "7/7 [==============================] - 0s 8ms/step - loss: 0.6450 - accuracy: 0.6539 - val_loss: 0.6611 - val_accuracy: 0.6286\n",
            "Epoch 471/500\n",
            "7/7 [==============================] - 0s 8ms/step - loss: 0.6450 - accuracy: 0.6539 - val_loss: 0.6612 - val_accuracy: 0.6286\n",
            "Epoch 472/500\n",
            "7/7 [==============================] - 0s 8ms/step - loss: 0.6450 - accuracy: 0.6539 - val_loss: 0.6612 - val_accuracy: 0.6286\n",
            "Epoch 473/500\n",
            "7/7 [==============================] - 0s 8ms/step - loss: 0.6450 - accuracy: 0.6539 - val_loss: 0.6612 - val_accuracy: 0.6286\n",
            "Epoch 474/500\n",
            "7/7 [==============================] - 0s 9ms/step - loss: 0.6450 - accuracy: 0.6539 - val_loss: 0.6611 - val_accuracy: 0.6286\n",
            "Epoch 475/500\n",
            "7/7 [==============================] - 0s 9ms/step - loss: 0.6450 - accuracy: 0.6539 - val_loss: 0.6611 - val_accuracy: 0.6286\n",
            "Epoch 476/500\n",
            "7/7 [==============================] - 0s 9ms/step - loss: 0.6450 - accuracy: 0.6539 - val_loss: 0.6611 - val_accuracy: 0.6286\n",
            "Epoch 477/500\n",
            "7/7 [==============================] - 0s 8ms/step - loss: 0.6450 - accuracy: 0.6539 - val_loss: 0.6611 - val_accuracy: 0.6286\n",
            "Epoch 478/500\n",
            "7/7 [==============================] - 0s 8ms/step - loss: 0.6450 - accuracy: 0.6539 - val_loss: 0.6611 - val_accuracy: 0.6286\n",
            "Epoch 479/500\n",
            "7/7 [==============================] - 0s 8ms/step - loss: 0.6450 - accuracy: 0.6539 - val_loss: 0.6611 - val_accuracy: 0.6286\n",
            "Epoch 480/500\n",
            "7/7 [==============================] - 0s 8ms/step - loss: 0.6450 - accuracy: 0.6539 - val_loss: 0.6612 - val_accuracy: 0.6286\n",
            "Epoch 481/500\n",
            "7/7 [==============================] - 0s 8ms/step - loss: 0.6450 - accuracy: 0.6539 - val_loss: 0.6612 - val_accuracy: 0.6286\n",
            "Epoch 482/500\n",
            "7/7 [==============================] - 0s 8ms/step - loss: 0.6450 - accuracy: 0.6539 - val_loss: 0.6612 - val_accuracy: 0.6286\n",
            "Epoch 483/500\n",
            "7/7 [==============================] - 0s 8ms/step - loss: 0.6450 - accuracy: 0.6539 - val_loss: 0.6612 - val_accuracy: 0.6286\n",
            "Epoch 484/500\n",
            "7/7 [==============================] - 0s 8ms/step - loss: 0.6450 - accuracy: 0.6539 - val_loss: 0.6611 - val_accuracy: 0.6286\n",
            "Epoch 485/500\n",
            "7/7 [==============================] - 0s 8ms/step - loss: 0.6450 - accuracy: 0.6539 - val_loss: 0.6612 - val_accuracy: 0.6286\n",
            "Epoch 486/500\n",
            "7/7 [==============================] - 0s 8ms/step - loss: 0.6450 - accuracy: 0.6539 - val_loss: 0.6611 - val_accuracy: 0.6286\n",
            "Epoch 487/500\n",
            "7/7 [==============================] - 0s 8ms/step - loss: 0.6450 - accuracy: 0.6539 - val_loss: 0.6611 - val_accuracy: 0.6286\n",
            "Epoch 488/500\n",
            "7/7 [==============================] - 0s 8ms/step - loss: 0.6450 - accuracy: 0.6539 - val_loss: 0.6611 - val_accuracy: 0.6286\n",
            "Epoch 489/500\n",
            "7/7 [==============================] - 0s 9ms/step - loss: 0.6450 - accuracy: 0.6539 - val_loss: 0.6611 - val_accuracy: 0.6286\n",
            "Epoch 490/500\n",
            "7/7 [==============================] - 0s 9ms/step - loss: 0.6450 - accuracy: 0.6539 - val_loss: 0.6611 - val_accuracy: 0.6286\n",
            "Epoch 491/500\n",
            "7/7 [==============================] - 0s 9ms/step - loss: 0.6450 - accuracy: 0.6539 - val_loss: 0.6612 - val_accuracy: 0.6286\n",
            "Epoch 492/500\n",
            "7/7 [==============================] - 0s 8ms/step - loss: 0.6450 - accuracy: 0.6539 - val_loss: 0.6612 - val_accuracy: 0.6286\n",
            "Epoch 493/500\n",
            "7/7 [==============================] - 0s 8ms/step - loss: 0.6450 - accuracy: 0.6539 - val_loss: 0.6612 - val_accuracy: 0.6286\n",
            "Epoch 494/500\n",
            "7/7 [==============================] - 0s 8ms/step - loss: 0.6450 - accuracy: 0.6539 - val_loss: 0.6612 - val_accuracy: 0.6286\n",
            "Epoch 495/500\n",
            "7/7 [==============================] - 0s 8ms/step - loss: 0.6450 - accuracy: 0.6539 - val_loss: 0.6612 - val_accuracy: 0.6286\n",
            "Epoch 496/500\n",
            "7/7 [==============================] - 0s 9ms/step - loss: 0.6450 - accuracy: 0.6539 - val_loss: 0.6612 - val_accuracy: 0.6286\n",
            "Epoch 497/500\n",
            "7/7 [==============================] - 0s 8ms/step - loss: 0.6450 - accuracy: 0.6539 - val_loss: 0.6612 - val_accuracy: 0.6286\n",
            "Epoch 498/500\n",
            "7/7 [==============================] - 0s 8ms/step - loss: 0.6450 - accuracy: 0.6539 - val_loss: 0.6612 - val_accuracy: 0.6286\n",
            "Epoch 499/500\n",
            "7/7 [==============================] - 0s 8ms/step - loss: 0.6450 - accuracy: 0.6539 - val_loss: 0.6612 - val_accuracy: 0.6286\n",
            "Epoch 500/500\n",
            "7/7 [==============================] - 0s 8ms/step - loss: 0.6450 - accuracy: 0.6539 - val_loss: 0.6612 - val_accuracy: 0.6286\n",
            "Total execution time - 0:00:28.111323\n"
          ],
          "name": "stdout"
        }
      ]
    },
    {
      "cell_type": "code",
      "metadata": {
        "colab": {
          "base_uri": "https://localhost:8080/"
        },
        "id": "PCSgDWVnllA1",
        "outputId": "bf48a47a-47da-4938-eec7-3110214c2e70"
      },
      "source": [
        "_,acc = model.evaluate(X_test, y_test)\n",
        "print('Accuracy = {} %'.format(acc *100))"
      ],
      "execution_count": null,
      "outputs": [
        {
          "output_type": "stream",
          "text": [
            "6/6 [==============================] - 0s 2ms/step - loss: 0.6320 - accuracy: 0.6743\n",
            "Accuracy = 67.42857098579407 %\n"
          ],
          "name": "stdout"
        }
      ]
    },
    {
      "cell_type": "code",
      "metadata": {
        "colab": {
          "base_uri": "https://localhost:8080/",
          "height": 295
        },
        "id": "i3zpCG3Il4tb",
        "outputId": "3d06ee78-ff41-41d9-8b3c-03862d7e97ec"
      },
      "source": [
        "#Plotting loss and accuracy plots\n",
        "\n",
        "loss = history.history['loss']\n",
        "val_loss = history.history['val_loss']\n",
        "epochs = range(1, len(loss)+1)\n",
        "plt.plot(epochs, loss, 'y', label = 'Training loss')\n",
        "plt.plot(epochs, val_loss, 'r', label = 'Validation loss')\n",
        "plt.title('Training and validation loss')\n",
        "plt.xlabel('Epochs')\n",
        "plt.ylabel('Loss')\n",
        "plt.legend()\n",
        "plt.show()"
      ],
      "execution_count": null,
      "outputs": [
        {
          "output_type": "display_data",
          "data": {
            "image/png": "[encoded data removed]",
            "text/plain": [
              "<Figure size 432x288 with 1 Axes>"
            ]
          },
          "metadata": {
            "tags": [],
            "needs_background": "light"
          }
        }
      ]
    },
    {
      "cell_type": "code",
      "metadata": {
        "colab": {
          "base_uri": "https://localhost:8080/",
          "height": 295
        },
        "id": "gtXcOHX_oEcE",
        "outputId": "275315f1-d588-40d6-c1a6-04d082596c6f"
      },
      "source": [
        "\n",
        "loss = history.history['accuracy']\n",
        "val_loss = history.history['val_accuracy']\n",
        "epochs = range(1, len(loss)+1)\n",
        "plt.plot(epochs, loss, 'y', label = 'Training Accuracy')\n",
        "plt.plot(epochs, val_loss, 'r', label = 'Validation Accuracy')\n",
        "plt.title('Training and validation Accuracy')\n",
        "plt.xlabel('Epochs')\n",
        "plt.ylabel('Accuracy')\n",
        "plt.legend()\n",
        "plt.show()"
      ],
      "execution_count": null,
      "outputs": [
        {
          "output_type": "display_data",
          "data": {
            "image/png": "[encoded data removed]",
            "text/plain": [
              "<Figure size 432x288 with 1 Axes>"
            ]
          },
          "metadata": {
            "tags": [],
            "needs_background": "light"
          }
        }
      ]
    }
  ]
}