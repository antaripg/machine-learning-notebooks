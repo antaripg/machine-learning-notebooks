{
  "nbformat": 4,
  "nbformat_minor": 0,
  "metadata": {
    "colab": {
      "provenance": [],
      "authorship_tag": "ABX9TyOfr0hpVaky8wnaGMOd/Wyc",
      "include_colab_link": true
    },
    "kernelspec": {
      "name": "python3",
      "display_name": "Python 3"
    },
    "language_info": {
      "name": "python"
    },
    "accelerator": "GPU"
  },
  "cells": [
    {
      "cell_type": "markdown",
      "metadata": {
        "id": "view-in-github",
        "colab_type": "text"
      },
      "source": [
        "<a href=\"https://colab.research.google.com/github/antaripg/machine-learning-notebooks/blob/main/BreastCancer_ML.ipynb\" target=\"_parent\"><img src=\"https://colab.research.google.com/assets/colab-badge.svg\" alt=\"Open In Colab\"/></a>"
      ]
    },
    {
      "cell_type": "code",
      "metadata": {
        "colab": {
          "base_uri": "https://localhost:8080/"
        },
        "id": "on9ECj6AKW5P",
        "outputId": "dc33b4bc-e037-4d24-d6e8-1565be1ac85a"
      },
      "source": [
        "gpu_info = !nvidia-smi\n",
        "gpu_info = '\\n'.join(gpu_info)\n",
        "if gpu_info.find('failed') >= 0:\n",
        "  print('Select the Runtime > \"Change runtime type\" menu to enable a GPU accelerator, ')\n",
        "  print('and then re-execute this cell.')\n",
        "else:\n",
        "  print(gpu_info)"
      ],
      "execution_count": null,
      "outputs": [
        {
          "output_type": "stream",
          "text": [
            "Fri May 14 05:21:43 2021       \n",
            "+-----------------------------------------------------------------------------+\n",
            "| NVIDIA-SMI 465.19.01    Driver Version: 460.32.03    CUDA Version: 11.2     |\n",
            "|-------------------------------+----------------------+----------------------+\n",
            "| GPU  Name        Persistence-M| Bus-Id        Disp.A | Volatile Uncorr. ECC |\n",
            "| Fan  Temp  Perf  Pwr:Usage/Cap|         Memory-Usage | GPU-Util  Compute M. |\n",
            "|                               |                      |               MIG M. |\n",
            "|===============================+======================+======================|\n",
            "|   0  Tesla T4            Off  | 00000000:00:04.0 Off |                    0 |\n",
            "| N/A   62C    P0    30W /  70W |    222MiB / 15109MiB |      0%      Default |\n",
            "|                               |                      |                  N/A |\n",
            "+-------------------------------+----------------------+----------------------+\n",
            "                                                                               \n",
            "+-----------------------------------------------------------------------------+\n",
            "| Processes:                                                                  |\n",
            "|  GPU   GI   CI        PID   Type   Process name                  GPU Memory |\n",
            "|        ID   ID                                                   Usage      |\n",
            "|=============================================================================|\n",
            "+-----------------------------------------------------------------------------+\n"
          ],
          "name": "stdout"
        }
      ]
    },
    {
      "cell_type": "code",
      "metadata": {
        "colab": {
          "base_uri": "https://localhost:8080/"
        },
        "id": "VOGlvQZqKdlU",
        "outputId": "ece15570-3267-44aa-a620-e954d2e229b4"
      },
      "source": [
        "from psutil import virtual_memory\n",
        "ram_gb = virtual_memory().total / 1e9\n",
        "print('Your runtime has {:.1f} gigabytes of available RAM\\n'.format(ram_gb))\n",
        "\n",
        "if ram_gb < 20:\n",
        "  print('To enable a high-RAM runtime, select the Runtime > \"Change runtime type\"')\n",
        "  print('menu, and then select High-RAM in the Runtime shape dropdown. Then, ')\n",
        "  print('re-execute this cell.')\n",
        "else:\n",
        "  print('You are using a high-RAM runtime!')"
      ],
      "execution_count": null,
      "outputs": [
        {
          "output_type": "stream",
          "text": [
            "Your runtime has 13.6 gigabytes of available RAM\n",
            "\n",
            "To enable a high-RAM runtime, select the Runtime > \"Change runtime type\"\n",
            "menu, and then select High-RAM in the Runtime shape dropdown. Then, \n",
            "re-execute this cell.\n"
          ],
          "name": "stdout"
        }
      ]
    },
    {
      "cell_type": "code",
      "metadata": {
        "colab": {
          "base_uri": "https://localhost:8080/"
        },
        "id": "2BVw__n2KWvq",
        "outputId": "8901ca89-ea9c-4081-b2af-0c0ff7618798"
      },
      "source": [
        "%tensorflow_version 2.x\n",
        "import tensorflow as tf\n",
        "device_name = tf.test.gpu_device_name()\n",
        "if device_name != '/device:GPU:0':\n",
        "  raise SystemError('GPU device not found')\n",
        "print('Found GPU at: {}'.format(device_name))"
      ],
      "execution_count": null,
      "outputs": [
        {
          "output_type": "stream",
          "text": [
            "Found GPU at: /device:GPU:0\n"
          ],
          "name": "stdout"
        }
      ]
    },
    {
      "cell_type": "code",
      "metadata": {
        "id": "-zLjUnleKpep"
      },
      "source": [
        "%matplotlib inline\n",
        "\n",
        "import numpy as np  #Matrix Calculations\n",
        "import pandas as pd\n",
        "import os\n",
        "import math\n",
        "import cv2\n",
        "import scipy.ndimage\n",
        "import matplotlib.pyplot as plt\n",
        "import random\n",
        "from sklearn.preprocessing import LabelEncoder, StandardScaler\n",
        "from sklearn.model_selection import train_test_split\n",
        "from keras.models import Sequential\n",
        "from keras.layers import Dense, Activation, Dropout\n",
        "seed = 42\n",
        "np.random.seed = seed"
      ],
      "execution_count": null,
      "outputs": []
    },
    {
      "cell_type": "code",
      "metadata": {
        "colab": {
          "base_uri": "https://localhost:8080/"
        },
        "id": "sGNuxQQaKVAW",
        "outputId": "f60e7657-4d60-4d9c-9cd3-1eb7281556ec"
      },
      "source": [
        "from google.colab import drive\n",
        "drive.mount(\"/content/drive/\", force_remount=True)"
      ],
      "execution_count": null,
      "outputs": [
        {
          "output_type": "stream",
          "text": [
            "Mounted at /content/drive/\n"
          ],
          "name": "stdout"
        }
      ]
    },
    {
      "cell_type": "code",
      "metadata": {
        "id": "0_W2xQS-LfZ9"
      },
      "source": [
        "cols_names = ['Sample Code Number',             # 1- 10\n",
        "              'Clump Thickness',                # 1- 10\n",
        "              'Uniformity of Cell Size',        # 1- 10\n",
        "              'Uniformity of Cell Shape',       # 1- 10\n",
        "              'Marginal Adhesion',              # 1- 10\n",
        "              'Single Epithelial Cell Size',    # 1- 10\n",
        "              'Bare Nuclei',                    # 1- 10\n",
        "              'Bland Chromatin',                # 1- 10\n",
        "              'Normal Nucleoli',                # 1- 10\n",
        "              'Mitoses',                        # 1- 10\n",
        "              'Class']"
      ],
      "execution_count": null,
      "outputs": []
    },
    {
      "cell_type": "code",
      "metadata": {
        "id": "tPtnGv4vLGhg"
      },
      "source": [
        "with open('/content/drive/MyDrive/BreastCancer_ML/breast_cancer_data.csv') as input_file:\n",
        "    data_df = pd.read_csv(input_file,delimiter=',')"
      ],
      "execution_count": null,
      "outputs": []
    },
    {
      "cell_type": "code",
      "metadata": {
        "colab": {
          "base_uri": "https://localhost:8080/",
          "height": 223
        },
        "id": "jNPR5XbhLiZB",
        "outputId": "fc558c1c-a053-4f47-def2-2780cd8834fc"
      },
      "source": [
        "data_df.head()"
      ],
      "execution_count": null,
      "outputs": [
        {
          "output_type": "execute_result",
          "data": {
            "text/html": [
              "<div>\n",
              "<style scoped>\n",
              "    .dataframe tbody tr th:only-of-type {\n",
              "        vertical-align: middle;\n",
              "    }\n",
              "\n",
              "    .dataframe tbody tr th {\n",
              "        vertical-align: top;\n",
              "    }\n",
              "\n",
              "    .dataframe thead th {\n",
              "        text-align: right;\n",
              "    }\n",
              "</style>\n",
              "<table border=\"1\" class=\"dataframe\">\n",
              "  <thead>\n",
              "    <tr style=\"text-align: right;\">\n",
              "      <th></th>\n",
              "      <th>Unnamed: 0</th>\n",
              "      <th>Sample Code Number</th>\n",
              "      <th>Clump Thickness</th>\n",
              "      <th>Uniformity of Cell Size</th>\n",
              "      <th>Uniformity of Cell Shape</th>\n",
              "      <th>Marginal Adhesion</th>\n",
              "      <th>Single Epithelial Cell Size</th>\n",
              "      <th>Bare Nuclei</th>\n",
              "      <th>Bland Chromatin</th>\n",
              "      <th>Normal Nucleoli</th>\n",
              "      <th>Mitoses</th>\n",
              "      <th>Class</th>\n",
              "    </tr>\n",
              "  </thead>\n",
              "  <tbody>\n",
              "    <tr>\n",
              "      <th>0</th>\n",
              "      <td>0</td>\n",
              "      <td>1000025</td>\n",
              "      <td>5</td>\n",
              "      <td>1</td>\n",
              "      <td>1</td>\n",
              "      <td>1</td>\n",
              "      <td>2</td>\n",
              "      <td>1</td>\n",
              "      <td>3</td>\n",
              "      <td>1</td>\n",
              "      <td>1</td>\n",
              "      <td>2</td>\n",
              "    </tr>\n",
              "    <tr>\n",
              "      <th>1</th>\n",
              "      <td>1</td>\n",
              "      <td>1002945</td>\n",
              "      <td>5</td>\n",
              "      <td>4</td>\n",
              "      <td>4</td>\n",
              "      <td>5</td>\n",
              "      <td>7</td>\n",
              "      <td>10</td>\n",
              "      <td>3</td>\n",
              "      <td>2</td>\n",
              "      <td>1</td>\n",
              "      <td>2</td>\n",
              "    </tr>\n",
              "    <tr>\n",
              "      <th>2</th>\n",
              "      <td>2</td>\n",
              "      <td>1015425</td>\n",
              "      <td>3</td>\n",
              "      <td>1</td>\n",
              "      <td>1</td>\n",
              "      <td>1</td>\n",
              "      <td>2</td>\n",
              "      <td>2</td>\n",
              "      <td>3</td>\n",
              "      <td>1</td>\n",
              "      <td>1</td>\n",
              "      <td>2</td>\n",
              "    </tr>\n",
              "    <tr>\n",
              "      <th>3</th>\n",
              "      <td>3</td>\n",
              "      <td>1016277</td>\n",
              "      <td>6</td>\n",
              "      <td>8</td>\n",
              "      <td>8</td>\n",
              "      <td>1</td>\n",
              "      <td>3</td>\n",
              "      <td>4</td>\n",
              "      <td>3</td>\n",
              "      <td>7</td>\n",
              "      <td>1</td>\n",
              "      <td>2</td>\n",
              "    </tr>\n",
              "    <tr>\n",
              "      <th>4</th>\n",
              "      <td>4</td>\n",
              "      <td>1017023</td>\n",
              "      <td>4</td>\n",
              "      <td>1</td>\n",
              "      <td>1</td>\n",
              "      <td>3</td>\n",
              "      <td>2</td>\n",
              "      <td>1</td>\n",
              "      <td>3</td>\n",
              "      <td>1</td>\n",
              "      <td>1</td>\n",
              "      <td>2</td>\n",
              "    </tr>\n",
              "  </tbody>\n",
              "</table>\n",
              "</div>"
            ],
            "text/plain": [
              "   Unnamed: 0  Sample Code Number  ...  Mitoses  Class\n",
              "0           0             1000025  ...        1      2\n",
              "1           1             1002945  ...        1      2\n",
              "2           2             1015425  ...        1      2\n",
              "3           3             1016277  ...        1      2\n",
              "4           4             1017023  ...        1      2\n",
              "\n",
              "[5 rows x 12 columns]"
            ]
          },
          "metadata": {
            "tags": []
          },
          "execution_count": 86
        }
      ]
    },
    {
      "cell_type": "code",
      "metadata": {
        "colab": {
          "base_uri": "https://localhost:8080/"
        },
        "id": "YemyQ72qLxwt",
        "outputId": "63c1e75b-2b32-4988-aa38-6c4d6a6b504c"
      },
      "source": [
        "data_df = data_df.dropna()\n",
        "print(data_df.describe().T)\n",
        "print(data_df.isnull().sum())"
      ],
      "execution_count": null,
      "outputs": [
        {
          "output_type": "stream",
          "text": [
            "                             count          mean  ...        75%         max\n",
            "Unnamed: 0                   699.0  3.490000e+02  ...      523.5       698.0\n",
            "Sample Code Number           699.0  1.071704e+06  ...  1238298.0  13454352.0\n",
            "Clump Thickness              699.0  4.417740e+00  ...        6.0        10.0\n",
            "Uniformity of Cell Size      699.0  3.134478e+00  ...        5.0        10.0\n",
            "Uniformity of Cell Shape     699.0  3.207439e+00  ...        5.0        10.0\n",
            "Marginal Adhesion            699.0  2.806867e+00  ...        4.0        10.0\n",
            "Single Epithelial Cell Size  699.0  3.216023e+00  ...        4.0        10.0\n",
            "Bland Chromatin              699.0  3.437768e+00  ...        5.0        10.0\n",
            "Normal Nucleoli              699.0  2.866953e+00  ...        4.0        10.0\n",
            "Mitoses                      699.0  1.589413e+00  ...        1.0        10.0\n",
            "Class                        699.0  2.689557e+00  ...        4.0         4.0\n",
            "\n",
            "[11 rows x 8 columns]\n",
            "Unnamed: 0                     0\n",
            "Sample Code Number             0\n",
            "Clump Thickness                0\n",
            "Uniformity of Cell Size        0\n",
            "Uniformity of Cell Shape       0\n",
            "Marginal Adhesion              0\n",
            "Single Epithelial Cell Size    0\n",
            "Bare Nuclei                    0\n",
            "Bland Chromatin                0\n",
            "Normal Nucleoli                0\n",
            "Mitoses                        0\n",
            "Class                          0\n",
            "dtype: int64\n"
          ],
          "name": "stdout"
        }
      ]
    },
    {
      "cell_type": "code",
      "metadata": {
        "id": "RNoQspZjY188"
      },
      "source": [
        "\n"
      ],
      "execution_count": null,
      "outputs": []
    },
    {
      "cell_type": "code",
      "metadata": {
        "colab": {
          "base_uri": "https://localhost:8080/"
        },
        "id": "BrwNRaJ0MVKg",
        "outputId": "4e37a51e-35e9-4306-b51b-88d16b20a2c1"
      },
      "source": [
        "data_df = data_df.rename (columns = {'Class':'Label'})\n",
        "print(data_df.dtypes)"
      ],
      "execution_count": null,
      "outputs": [
        {
          "output_type": "stream",
          "text": [
            "Unnamed: 0                      int64\n",
            "Sample Code Number              int64\n",
            "Clump Thickness                 int64\n",
            "Uniformity of Cell Size         int64\n",
            "Uniformity of Cell Shape        int64\n",
            "Marginal Adhesion               int64\n",
            "Single Epithelial Cell Size     int64\n",
            "Bare Nuclei                    object\n",
            "Bland Chromatin                 int64\n",
            "Normal Nucleoli                 int64\n",
            "Mitoses                         int64\n",
            "Label                           int64\n",
            "dtype: object\n"
          ],
          "name": "stdout"
        }
      ]
    },
    {
      "cell_type": "code",
      "metadata": {
        "colab": {
          "base_uri": "https://localhost:8080/"
        },
        "id": "IeuYSqVcP90q",
        "outputId": "e1264bc9-7f73-4a3b-f09e-1f8be4eb1102"
      },
      "source": [
        "data_df['Label'].value_counts()"
      ],
      "execution_count": null,
      "outputs": [
        {
          "output_type": "execute_result",
          "data": {
            "text/plain": [
              "2    458\n",
              "4    241\n",
              "Name: Label, dtype: int64"
            ]
          },
          "metadata": {
            "tags": []
          },
          "execution_count": 89
        }
      ]
    },
    {
      "cell_type": "code",
      "metadata": {
        "id": "DXixrcegQH7e"
      },
      "source": [
        "\n"
      ],
      "execution_count": null,
      "outputs": []
    },
    {
      "cell_type": "code",
      "metadata": {
        "id": "7J_WBwJhQO5s"
      },
      "source": [],
      "execution_count": null,
      "outputs": []
    },
    {
      "cell_type": "code",
      "metadata": {
        "id": "eDAEI7MjTCIz"
      },
      "source": [],
      "execution_count": null,
      "outputs": []
    },
    {
      "cell_type": "code",
      "metadata": {
        "id": "XkZts1xLRJty"
      },
      "source": [
        "# # define X and normalizing values\n",
        "# X = data_df.drop(labels = ['Label', 'Sample Code Number'], axis = 1)"
      ],
      "execution_count": null,
      "outputs": []
    },
    {
      "cell_type": "code",
      "metadata": {
        "id": "3yHbAU4ZcTFq"
      },
      "source": [
        "cols_final = ['Clump Thickness',                # 1- 10\n",
        "              'Uniformity of Cell Size',        # 1- 10\n",
        "              'Uniformity of Cell Shape',       # 1- 10\n",
        "              'Marginal Adhesion',              # 1- 10\n",
        "              'Single Epithelial Cell Size',    # 1- 10\n",
        "              'Bare Nuclei',                    # 1- 10\n",
        "              'Bland Chromatin',                # 1- 10\n",
        "              'Normal Nucleoli',                # 1- 10\n",
        "              'Mitoses']\n",
        "df = data_df\n",
        "check = '?'\n",
        "for cols in cols_final:\n",
        "  df[''+cols] = df[''+cols].replace('?',99999)"
      ],
      "execution_count": null,
      "outputs": []
    },
    {
      "cell_type": "code",
      "metadata": {
        "id": "PgDGB7ZVdEUp"
      },
      "source": [
        "df = df[~(df == 99999).any(axis='columns')]"
      ],
      "execution_count": null,
      "outputs": []
    },
    {
      "cell_type": "code",
      "metadata": {
        "colab": {
          "base_uri": "https://localhost:8080/"
        },
        "id": "xAHvXiCXeDe8",
        "outputId": "c8cb01ae-1947-4bc4-d33c-feb65290bbc3"
      },
      "source": [
        "df['Label'].value_counts()\n"
      ],
      "execution_count": null,
      "outputs": [
        {
          "output_type": "execute_result",
          "data": {
            "text/plain": [
              "2    444\n",
              "4    239\n",
              "Name: Label, dtype: int64"
            ]
          },
          "metadata": {
            "tags": []
          },
          "execution_count": 116
        }
      ]
    },
    {
      "cell_type": "code",
      "metadata": {
        "id": "NCbCpQukeA-i"
      },
      "source": [
        "y = df['Label'].values"
      ],
      "execution_count": null,
      "outputs": []
    },
    {
      "cell_type": "code",
      "metadata": {
        "id": "z00FxajCeH4Q"
      },
      "source": [
        "labelencoder = LabelEncoder()\n",
        "Y= labelencoder.fit_transform(y)"
      ],
      "execution_count": null,
      "outputs": []
    },
    {
      "cell_type": "code",
      "metadata": {
        "colab": {
          "base_uri": "https://localhost:8080/"
        },
        "id": "lmALTjsaeTsu",
        "outputId": "a03a3ab4-a4e9-4d07-8b03-67b1950e71b6"
      },
      "source": [
        "Y.shape"
      ],
      "execution_count": null,
      "outputs": [
        {
          "output_type": "execute_result",
          "data": {
            "text/plain": [
              "(683,)"
            ]
          },
          "metadata": {
            "tags": []
          },
          "execution_count": 134
        }
      ]
    },
    {
      "cell_type": "code",
      "metadata": {
        "id": "rf85ZgAedbjJ"
      },
      "source": [
        "X = df.drop(labels = ['Label', 'Sample Code Number'], axis = 1)"
      ],
      "execution_count": null,
      "outputs": []
    },
    {
      "cell_type": "code",
      "metadata": {
        "id": "Uily34pbVXE_"
      },
      "source": [
        "scaler = StandardScaler()\n",
        "scaler.fit(X)\n",
        "X = scaler.transform(X)"
      ],
      "execution_count": null,
      "outputs": []
    },
    {
      "cell_type": "code",
      "metadata": {
        "colab": {
          "base_uri": "https://localhost:8080/"
        },
        "id": "WQAJ5_xOSFdE",
        "outputId": "5471d1f3-2f1f-4074-cef4-aa0874657f48"
      },
      "source": [
        "X.shape"
      ],
      "execution_count": null,
      "outputs": [
        {
          "output_type": "execute_result",
          "data": {
            "text/plain": [
              "(683, 10)"
            ]
          },
          "metadata": {
            "tags": []
          },
          "execution_count": 137
        }
      ]
    },
    {
      "cell_type": "code",
      "metadata": {
        "id": "GQ3XBYnle00P"
      },
      "source": [
        "X_train, X_test, y_train, y_test = train_test_split(X, Y, test_size = 0.25, random_state = 42 )"
      ],
      "execution_count": null,
      "outputs": []
    },
    {
      "cell_type": "code",
      "metadata": {
        "colab": {
          "base_uri": "https://localhost:8080/"
        },
        "id": "BJ6ruTuwkBqd",
        "outputId": "77cc93a8-d0cb-4d5c-bb03-01268618f81e"
      },
      "source": [
        "# Creating a keras deep learning Sequential Model\n",
        "\n",
        "model = Sequential()\n",
        "model.add(Dense(16, input_dim = 10, activation = 'relu'))\n",
        "model.add(Dropout(0.2))\n",
        "model.add(Dense(1))\n",
        "model.add(Activation('sigmoid'))\n",
        "model.compile(loss= 'binary_crossentropy',\n",
        "              optimizer = 'adam',\n",
        "              metrics = ['accuracy'])\n",
        "\n",
        "print(model.summary())"
      ],
      "execution_count": null,
      "outputs": [
        {
          "output_type": "stream",
          "text": [
            "Model: \"sequential_2\"\n",
            "_________________________________________________________________\n",
            "Layer (type)                 Output Shape              Param #   \n",
            "=================================================================\n",
            "dense_3 (Dense)              (None, 16)                176       \n",
            "_________________________________________________________________\n",
            "dropout_2 (Dropout)          (None, 16)                0         \n",
            "_________________________________________________________________\n",
            "dense_4 (Dense)              (None, 1)                 17        \n",
            "_________________________________________________________________\n",
            "activation_1 (Activation)    (None, 1)                 0         \n",
            "=================================================================\n",
            "Total params: 193\n",
            "Trainable params: 193\n",
            "Non-trainable params: 0\n",
            "_________________________________________________________________\n",
            "None\n"
          ],
          "name": "stdout"
        }
      ]
    },
    {
      "cell_type": "code",
      "metadata": {
        "colab": {
          "base_uri": "https://localhost:8080/"
        },
        "id": "Q8BpEGbMlBhc",
        "outputId": "ca27eb87-e024-4e9f-ef7b-b7975a8a8102"
      },
      "source": [
        "import datetime\n",
        "start = datetime.datetime.now()\n",
        "\n",
        "history = model.fit(X_train, y_train, verbose = 1, epochs = 100 , batch_size = 64, shuffle = True, validation_split= 0.2)\n",
        "\n",
        "end = datetime.datetime.now()\n",
        "\n",
        "print(\"Total execution time - {}\".format(end - start))\n"
      ],
      "execution_count": null,
      "outputs": [
        {
          "output_type": "stream",
          "text": [
            "Epoch 1/100\n",
            "7/7 [==============================] - 3s 29ms/step - loss: 1.0343 - accuracy: 0.3196 - val_loss: 0.9048 - val_accuracy: 0.3592\n",
            "Epoch 2/100\n",
            "7/7 [==============================] - 0s 8ms/step - loss: 0.9423 - accuracy: 0.3568 - val_loss: 0.8202 - val_accuracy: 0.3592\n",
            "Epoch 3/100\n",
            "7/7 [==============================] - 0s 7ms/step - loss: 0.8359 - accuracy: 0.3947 - val_loss: 0.7451 - val_accuracy: 0.3883\n",
            "Epoch 4/100\n",
            "7/7 [==============================] - 0s 7ms/step - loss: 0.8106 - accuracy: 0.3875 - val_loss: 0.6783 - val_accuracy: 0.4757\n",
            "Epoch 5/100\n",
            "7/7 [==============================] - 0s 7ms/step - loss: 0.7112 - accuracy: 0.4671 - val_loss: 0.6193 - val_accuracy: 0.5146\n",
            "Epoch 6/100\n",
            "7/7 [==============================] - 0s 7ms/step - loss: 0.6821 - accuracy: 0.4851 - val_loss: 0.5665 - val_accuracy: 0.6214\n",
            "Epoch 7/100\n",
            "7/7 [==============================] - 0s 9ms/step - loss: 0.6153 - accuracy: 0.6048 - val_loss: 0.5214 - val_accuracy: 0.7476\n",
            "Epoch 8/100\n",
            "7/7 [==============================] - 0s 7ms/step - loss: 0.5889 - accuracy: 0.6004 - val_loss: 0.4806 - val_accuracy: 0.8738\n",
            "Epoch 9/100\n",
            "7/7 [==============================] - 0s 7ms/step - loss: 0.5149 - accuracy: 0.7347 - val_loss: 0.4453 - val_accuracy: 0.8932\n",
            "Epoch 10/100\n",
            "7/7 [==============================] - 0s 7ms/step - loss: 0.4762 - accuracy: 0.7891 - val_loss: 0.4140 - val_accuracy: 0.9320\n",
            "Epoch 11/100\n",
            "7/7 [==============================] - 0s 7ms/step - loss: 0.4465 - accuracy: 0.8012 - val_loss: 0.3863 - val_accuracy: 0.9417\n",
            "Epoch 12/100\n",
            "7/7 [==============================] - 0s 7ms/step - loss: 0.4317 - accuracy: 0.8382 - val_loss: 0.3614 - val_accuracy: 0.9515\n",
            "Epoch 13/100\n",
            "7/7 [==============================] - 0s 7ms/step - loss: 0.3995 - accuracy: 0.8620 - val_loss: 0.3390 - val_accuracy: 0.9709\n",
            "Epoch 14/100\n",
            "7/7 [==============================] - 0s 7ms/step - loss: 0.3754 - accuracy: 0.8802 - val_loss: 0.3194 - val_accuracy: 0.9709\n",
            "Epoch 15/100\n",
            "7/7 [==============================] - 0s 7ms/step - loss: 0.3530 - accuracy: 0.9169 - val_loss: 0.3016 - val_accuracy: 0.9612\n",
            "Epoch 16/100\n",
            "7/7 [==============================] - 0s 7ms/step - loss: 0.3276 - accuracy: 0.9292 - val_loss: 0.2855 - val_accuracy: 0.9515\n",
            "Epoch 17/100\n",
            "7/7 [==============================] - 0s 7ms/step - loss: 0.2994 - accuracy: 0.9514 - val_loss: 0.2710 - val_accuracy: 0.9515\n",
            "Epoch 18/100\n",
            "7/7 [==============================] - 0s 7ms/step - loss: 0.3094 - accuracy: 0.9472 - val_loss: 0.2582 - val_accuracy: 0.9515\n",
            "Epoch 19/100\n",
            "7/7 [==============================] - 0s 7ms/step - loss: 0.2749 - accuracy: 0.9618 - val_loss: 0.2465 - val_accuracy: 0.9515\n",
            "Epoch 20/100\n",
            "7/7 [==============================] - 0s 8ms/step - loss: 0.2776 - accuracy: 0.9405 - val_loss: 0.2359 - val_accuracy: 0.9515\n",
            "Epoch 21/100\n",
            "7/7 [==============================] - 0s 7ms/step - loss: 0.2598 - accuracy: 0.9590 - val_loss: 0.2262 - val_accuracy: 0.9515\n",
            "Epoch 22/100\n",
            "7/7 [==============================] - 0s 7ms/step - loss: 0.2399 - accuracy: 0.9578 - val_loss: 0.2173 - val_accuracy: 0.9515\n",
            "Epoch 23/100\n",
            "7/7 [==============================] - 0s 7ms/step - loss: 0.2325 - accuracy: 0.9683 - val_loss: 0.2092 - val_accuracy: 0.9515\n",
            "Epoch 24/100\n",
            "7/7 [==============================] - 0s 7ms/step - loss: 0.2314 - accuracy: 0.9676 - val_loss: 0.2018 - val_accuracy: 0.9515\n",
            "Epoch 25/100\n",
            "7/7 [==============================] - 0s 7ms/step - loss: 0.2205 - accuracy: 0.9723 - val_loss: 0.1949 - val_accuracy: 0.9515\n",
            "Epoch 26/100\n",
            "7/7 [==============================] - 0s 7ms/step - loss: 0.1886 - accuracy: 0.9745 - val_loss: 0.1888 - val_accuracy: 0.9515\n",
            "Epoch 27/100\n",
            "7/7 [==============================] - 0s 7ms/step - loss: 0.2053 - accuracy: 0.9546 - val_loss: 0.1831 - val_accuracy: 0.9515\n",
            "Epoch 28/100\n",
            "7/7 [==============================] - 0s 7ms/step - loss: 0.2006 - accuracy: 0.9614 - val_loss: 0.1776 - val_accuracy: 0.9515\n",
            "Epoch 29/100\n",
            "7/7 [==============================] - 0s 7ms/step - loss: 0.2057 - accuracy: 0.9603 - val_loss: 0.1729 - val_accuracy: 0.9515\n",
            "Epoch 30/100\n",
            "7/7 [==============================] - 0s 7ms/step - loss: 0.1830 - accuracy: 0.9724 - val_loss: 0.1684 - val_accuracy: 0.9515\n",
            "Epoch 31/100\n",
            "7/7 [==============================] - 0s 7ms/step - loss: 0.1929 - accuracy: 0.9672 - val_loss: 0.1644 - val_accuracy: 0.9515\n",
            "Epoch 32/100\n",
            "7/7 [==============================] - 0s 8ms/step - loss: 0.1597 - accuracy: 0.9723 - val_loss: 0.1607 - val_accuracy: 0.9515\n",
            "Epoch 33/100\n",
            "7/7 [==============================] - 0s 8ms/step - loss: 0.1800 - accuracy: 0.9634 - val_loss: 0.1573 - val_accuracy: 0.9515\n",
            "Epoch 34/100\n",
            "7/7 [==============================] - 0s 7ms/step - loss: 0.1710 - accuracy: 0.9641 - val_loss: 0.1542 - val_accuracy: 0.9515\n",
            "Epoch 35/100\n",
            "7/7 [==============================] - 0s 7ms/step - loss: 0.1573 - accuracy: 0.9722 - val_loss: 0.1514 - val_accuracy: 0.9515\n",
            "Epoch 36/100\n",
            "7/7 [==============================] - 0s 7ms/step - loss: 0.1441 - accuracy: 0.9746 - val_loss: 0.1488 - val_accuracy: 0.9515\n",
            "Epoch 37/100\n",
            "7/7 [==============================] - 0s 7ms/step - loss: 0.1520 - accuracy: 0.9581 - val_loss: 0.1465 - val_accuracy: 0.9515\n",
            "Epoch 38/100\n",
            "7/7 [==============================] - 0s 7ms/step - loss: 0.1716 - accuracy: 0.9600 - val_loss: 0.1442 - val_accuracy: 0.9515\n",
            "Epoch 39/100\n",
            "7/7 [==============================] - 0s 7ms/step - loss: 0.1413 - accuracy: 0.9718 - val_loss: 0.1421 - val_accuracy: 0.9515\n",
            "Epoch 40/100\n",
            "7/7 [==============================] - 0s 7ms/step - loss: 0.1562 - accuracy: 0.9634 - val_loss: 0.1402 - val_accuracy: 0.9515\n",
            "Epoch 41/100\n",
            "7/7 [==============================] - 0s 7ms/step - loss: 0.1453 - accuracy: 0.9639 - val_loss: 0.1385 - val_accuracy: 0.9515\n",
            "Epoch 42/100\n",
            "7/7 [==============================] - 0s 7ms/step - loss: 0.1209 - accuracy: 0.9722 - val_loss: 0.1369 - val_accuracy: 0.9515\n",
            "Epoch 43/100\n",
            "7/7 [==============================] - 0s 7ms/step - loss: 0.1352 - accuracy: 0.9735 - val_loss: 0.1355 - val_accuracy: 0.9515\n",
            "Epoch 44/100\n",
            "7/7 [==============================] - 0s 7ms/step - loss: 0.1146 - accuracy: 0.9766 - val_loss: 0.1343 - val_accuracy: 0.9515\n",
            "Epoch 45/100\n",
            "7/7 [==============================] - 0s 7ms/step - loss: 0.1236 - accuracy: 0.9665 - val_loss: 0.1331 - val_accuracy: 0.9515\n",
            "Epoch 46/100\n",
            "7/7 [==============================] - 0s 7ms/step - loss: 0.1216 - accuracy: 0.9830 - val_loss: 0.1321 - val_accuracy: 0.9515\n",
            "Epoch 47/100\n",
            "7/7 [==============================] - 0s 6ms/step - loss: 0.1155 - accuracy: 0.9711 - val_loss: 0.1312 - val_accuracy: 0.9515\n",
            "Epoch 48/100\n",
            "7/7 [==============================] - 0s 7ms/step - loss: 0.1249 - accuracy: 0.9701 - val_loss: 0.1303 - val_accuracy: 0.9515\n",
            "Epoch 49/100\n",
            "7/7 [==============================] - 0s 7ms/step - loss: 0.1136 - accuracy: 0.9742 - val_loss: 0.1296 - val_accuracy: 0.9515\n",
            "Epoch 50/100\n",
            "7/7 [==============================] - 0s 8ms/step - loss: 0.1054 - accuracy: 0.9742 - val_loss: 0.1289 - val_accuracy: 0.9515\n",
            "Epoch 51/100\n",
            "7/7 [==============================] - 0s 7ms/step - loss: 0.1091 - accuracy: 0.9700 - val_loss: 0.1283 - val_accuracy: 0.9515\n",
            "Epoch 52/100\n",
            "7/7 [==============================] - 0s 7ms/step - loss: 0.0969 - accuracy: 0.9811 - val_loss: 0.1278 - val_accuracy: 0.9515\n",
            "Epoch 53/100\n",
            "7/7 [==============================] - 0s 8ms/step - loss: 0.1094 - accuracy: 0.9682 - val_loss: 0.1273 - val_accuracy: 0.9515\n",
            "Epoch 54/100\n",
            "7/7 [==============================] - 0s 7ms/step - loss: 0.1054 - accuracy: 0.9722 - val_loss: 0.1269 - val_accuracy: 0.9515\n",
            "Epoch 55/100\n",
            "7/7 [==============================] - 0s 7ms/step - loss: 0.1019 - accuracy: 0.9693 - val_loss: 0.1266 - val_accuracy: 0.9515\n",
            "Epoch 56/100\n",
            "7/7 [==============================] - 0s 7ms/step - loss: 0.0997 - accuracy: 0.9734 - val_loss: 0.1264 - val_accuracy: 0.9515\n",
            "Epoch 57/100\n",
            "7/7 [==============================] - 0s 7ms/step - loss: 0.1129 - accuracy: 0.9720 - val_loss: 0.1262 - val_accuracy: 0.9515\n",
            "Epoch 58/100\n",
            "7/7 [==============================] - 0s 7ms/step - loss: 0.0889 - accuracy: 0.9781 - val_loss: 0.1261 - val_accuracy: 0.9515\n",
            "Epoch 59/100\n",
            "7/7 [==============================] - 0s 7ms/step - loss: 0.1054 - accuracy: 0.9748 - val_loss: 0.1260 - val_accuracy: 0.9515\n",
            "Epoch 60/100\n",
            "7/7 [==============================] - 0s 7ms/step - loss: 0.1019 - accuracy: 0.9730 - val_loss: 0.1258 - val_accuracy: 0.9515\n",
            "Epoch 61/100\n",
            "7/7 [==============================] - 0s 7ms/step - loss: 0.0944 - accuracy: 0.9787 - val_loss: 0.1257 - val_accuracy: 0.9515\n",
            "Epoch 62/100\n",
            "7/7 [==============================] - 0s 7ms/step - loss: 0.0917 - accuracy: 0.9876 - val_loss: 0.1256 - val_accuracy: 0.9515\n",
            "Epoch 63/100\n",
            "7/7 [==============================] - 0s 8ms/step - loss: 0.0891 - accuracy: 0.9751 - val_loss: 0.1255 - val_accuracy: 0.9515\n",
            "Epoch 64/100\n",
            "7/7 [==============================] - 0s 7ms/step - loss: 0.0891 - accuracy: 0.9830 - val_loss: 0.1255 - val_accuracy: 0.9515\n",
            "Epoch 65/100\n",
            "7/7 [==============================] - 0s 7ms/step - loss: 0.0812 - accuracy: 0.9786 - val_loss: 0.1255 - val_accuracy: 0.9515\n",
            "Epoch 66/100\n",
            "7/7 [==============================] - 0s 7ms/step - loss: 0.0866 - accuracy: 0.9731 - val_loss: 0.1255 - val_accuracy: 0.9515\n",
            "Epoch 67/100\n",
            "7/7 [==============================] - 0s 7ms/step - loss: 0.0644 - accuracy: 0.9872 - val_loss: 0.1256 - val_accuracy: 0.9515\n",
            "Epoch 68/100\n",
            "7/7 [==============================] - 0s 7ms/step - loss: 0.0881 - accuracy: 0.9789 - val_loss: 0.1257 - val_accuracy: 0.9515\n",
            "Epoch 69/100\n",
            "7/7 [==============================] - 0s 7ms/step - loss: 0.0865 - accuracy: 0.9815 - val_loss: 0.1258 - val_accuracy: 0.9515\n",
            "Epoch 70/100\n",
            "7/7 [==============================] - 0s 7ms/step - loss: 0.0711 - accuracy: 0.9888 - val_loss: 0.1260 - val_accuracy: 0.9515\n",
            "Epoch 71/100\n",
            "7/7 [==============================] - 0s 7ms/step - loss: 0.0945 - accuracy: 0.9669 - val_loss: 0.1261 - val_accuracy: 0.9515\n",
            "Epoch 72/100\n",
            "7/7 [==============================] - 0s 7ms/step - loss: 0.0971 - accuracy: 0.9781 - val_loss: 0.1262 - val_accuracy: 0.9515\n",
            "Epoch 73/100\n",
            "7/7 [==============================] - 0s 7ms/step - loss: 0.0872 - accuracy: 0.9793 - val_loss: 0.1263 - val_accuracy: 0.9515\n",
            "Epoch 74/100\n",
            "7/7 [==============================] - 0s 7ms/step - loss: 0.0876 - accuracy: 0.9705 - val_loss: 0.1265 - val_accuracy: 0.9515\n",
            "Epoch 75/100\n",
            "7/7 [==============================] - 0s 7ms/step - loss: 0.0805 - accuracy: 0.9830 - val_loss: 0.1267 - val_accuracy: 0.9515\n",
            "Epoch 76/100\n",
            "7/7 [==============================] - 0s 7ms/step - loss: 0.0784 - accuracy: 0.9840 - val_loss: 0.1269 - val_accuracy: 0.9515\n",
            "Epoch 77/100\n",
            "7/7 [==============================] - 0s 7ms/step - loss: 0.0819 - accuracy: 0.9815 - val_loss: 0.1271 - val_accuracy: 0.9515\n",
            "Epoch 78/100\n",
            "7/7 [==============================] - 0s 7ms/step - loss: 0.0735 - accuracy: 0.9814 - val_loss: 0.1272 - val_accuracy: 0.9515\n",
            "Epoch 79/100\n",
            "7/7 [==============================] - 0s 7ms/step - loss: 0.0903 - accuracy: 0.9764 - val_loss: 0.1273 - val_accuracy: 0.9515\n",
            "Epoch 80/100\n",
            "7/7 [==============================] - 0s 7ms/step - loss: 0.0798 - accuracy: 0.9732 - val_loss: 0.1275 - val_accuracy: 0.9515\n",
            "Epoch 81/100\n",
            "7/7 [==============================] - 0s 7ms/step - loss: 0.0788 - accuracy: 0.9774 - val_loss: 0.1278 - val_accuracy: 0.9515\n",
            "Epoch 82/100\n",
            "7/7 [==============================] - 0s 7ms/step - loss: 0.0922 - accuracy: 0.9688 - val_loss: 0.1279 - val_accuracy: 0.9515\n",
            "Epoch 83/100\n",
            "7/7 [==============================] - 0s 8ms/step - loss: 0.0830 - accuracy: 0.9756 - val_loss: 0.1282 - val_accuracy: 0.9515\n",
            "Epoch 84/100\n",
            "7/7 [==============================] - 0s 7ms/step - loss: 0.0742 - accuracy: 0.9775 - val_loss: 0.1285 - val_accuracy: 0.9515\n",
            "Epoch 85/100\n",
            "7/7 [==============================] - 0s 8ms/step - loss: 0.0666 - accuracy: 0.9792 - val_loss: 0.1285 - val_accuracy: 0.9515\n",
            "Epoch 86/100\n",
            "7/7 [==============================] - 0s 7ms/step - loss: 0.0705 - accuracy: 0.9831 - val_loss: 0.1285 - val_accuracy: 0.9515\n",
            "Epoch 87/100\n",
            "7/7 [==============================] - 0s 7ms/step - loss: 0.0985 - accuracy: 0.9704 - val_loss: 0.1286 - val_accuracy: 0.9515\n",
            "Epoch 88/100\n",
            "7/7 [==============================] - 0s 7ms/step - loss: 0.0887 - accuracy: 0.9774 - val_loss: 0.1287 - val_accuracy: 0.9515\n",
            "Epoch 89/100\n",
            "7/7 [==============================] - 0s 7ms/step - loss: 0.0586 - accuracy: 0.9875 - val_loss: 0.1290 - val_accuracy: 0.9515\n",
            "Epoch 90/100\n",
            "7/7 [==============================] - 0s 7ms/step - loss: 0.0741 - accuracy: 0.9772 - val_loss: 0.1293 - val_accuracy: 0.9515\n",
            "Epoch 91/100\n",
            "7/7 [==============================] - 0s 7ms/step - loss: 0.0755 - accuracy: 0.9686 - val_loss: 0.1295 - val_accuracy: 0.9515\n",
            "Epoch 92/100\n",
            "7/7 [==============================] - 0s 8ms/step - loss: 0.0819 - accuracy: 0.9856 - val_loss: 0.1297 - val_accuracy: 0.9515\n",
            "Epoch 93/100\n",
            "7/7 [==============================] - 0s 7ms/step - loss: 0.0843 - accuracy: 0.9726 - val_loss: 0.1299 - val_accuracy: 0.9515\n",
            "Epoch 94/100\n",
            "7/7 [==============================] - 0s 7ms/step - loss: 0.0880 - accuracy: 0.9778 - val_loss: 0.1302 - val_accuracy: 0.9515\n",
            "Epoch 95/100\n",
            "7/7 [==============================] - 0s 7ms/step - loss: 0.0801 - accuracy: 0.9719 - val_loss: 0.1305 - val_accuracy: 0.9515\n",
            "Epoch 96/100\n",
            "7/7 [==============================] - 0s 7ms/step - loss: 0.0701 - accuracy: 0.9811 - val_loss: 0.1307 - val_accuracy: 0.9515\n",
            "Epoch 97/100\n",
            "7/7 [==============================] - 0s 7ms/step - loss: 0.0655 - accuracy: 0.9799 - val_loss: 0.1309 - val_accuracy: 0.9515\n",
            "Epoch 98/100\n",
            "7/7 [==============================] - 0s 7ms/step - loss: 0.0702 - accuracy: 0.9809 - val_loss: 0.1310 - val_accuracy: 0.9515\n",
            "Epoch 99/100\n",
            "7/7 [==============================] - 0s 7ms/step - loss: 0.0630 - accuracy: 0.9892 - val_loss: 0.1312 - val_accuracy: 0.9515\n",
            "Epoch 100/100\n",
            "7/7 [==============================] - 0s 7ms/step - loss: 0.0701 - accuracy: 0.9775 - val_loss: 0.1315 - val_accuracy: 0.9515\n",
            "Total execution time - 0:00:08.328667\n"
          ],
          "name": "stdout"
        }
      ]
    },
    {
      "cell_type": "code",
      "metadata": {
        "colab": {
          "base_uri": "https://localhost:8080/"
        },
        "id": "PCSgDWVnllA1",
        "outputId": "9b10965a-8731-479b-fd49-1b22d93d4aa4"
      },
      "source": [
        "_,acc = model.evaluate(X_test, y_test)\n",
        "print('Accuracy = {} %'.format(acc *100))"
      ],
      "execution_count": null,
      "outputs": [
        {
          "output_type": "stream",
          "text": [
            "6/6 [==============================] - 0s 2ms/step - loss: 0.0724 - accuracy: 0.9708\n",
            "Accuracy = 97.07602262496948 %\n"
          ],
          "name": "stdout"
        }
      ]
    },
    {
      "cell_type": "code",
      "metadata": {
        "colab": {
          "base_uri": "https://localhost:8080/",
          "height": 295
        },
        "id": "i3zpCG3Il4tb",
        "outputId": "89d1968e-9416-46f4-e9ac-d1e0d9b5d520"
      },
      "source": [
        "#Plotting loss and accuracy plots\n",
        "\n",
        "loss = history.history['loss']\n",
        "val_loss = history.history['val_loss']\n",
        "epochs = range(1, len(loss)+1)\n",
        "plt.plot(epochs, loss, 'y', label = 'Training loss')\n",
        "plt.plot(epochs, val_loss, 'r', label = 'Validation loss')\n",
        "plt.title('Training and validation loss')\n",
        "plt.xlabel('Epochs')\n",
        "plt.ylabel('Loss')\n",
        "plt.legend()\n",
        "plt.show()"
      ],
      "execution_count": null,
      "outputs": [
        {
          "output_type": "display_data",
          "data": {
            "image/png": "[encoded data removed]",
            "text/plain": [
              "<Figure size 432x288 with 1 Axes>"
            ]
          },
          "metadata": {
            "tags": [],
            "needs_background": "light"
          }
        }
      ]
    },
    {
      "cell_type": "code",
      "metadata": {
        "colab": {
          "base_uri": "https://localhost:8080/",
          "height": 295
        },
        "id": "gtXcOHX_oEcE",
        "outputId": "83252c74-7653-4246-b9d7-b3876801061a"
      },
      "source": [
        "\n",
        "loss = history.history['accuracy']\n",
        "val_loss = history.history['val_accuracy']\n",
        "epochs = range(1, len(loss)+1)\n",
        "plt.plot(epochs, loss, 'y', label = 'Training Accuracy')\n",
        "plt.plot(epochs, val_loss, 'r', label = 'Validation Accuracy')\n",
        "plt.title('Training and validation Accuracy')\n",
        "plt.xlabel('Epochs')\n",
        "plt.ylabel('Accuracy')\n",
        "plt.legend()\n",
        "plt.show()"
      ],
      "execution_count": null,
      "outputs": [
        {
          "output_type": "display_data",
          "data": {
            "image/png": "[encoded data removed]",
            "text/plain": [
              "<Figure size 432x288 with 1 Axes>"
            ]
          },
          "metadata": {
            "tags": [],
            "needs_background": "light"
          }
        }
      ]
    }
  ]
}